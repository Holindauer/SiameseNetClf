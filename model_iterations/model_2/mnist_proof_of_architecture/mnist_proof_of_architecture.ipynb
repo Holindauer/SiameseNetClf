{
 "cells": [
  {
   "cell_type": "markdown",
   "metadata": {},
   "source": [
    "# Simaese Model Architecture Implementation Proof of Concept\n",
    "\n",
    "This notebook (and the accompanying files: train_mnist.py, model_2_mnist.py) are a responce to my initial attempts of training the first model iteration of the signature verification model. Which is a siamese network. The model was severely underfitting the data with no convergence at all during training. I had many initial speculations as to why this was. I attempted to adress those speculations, but quickly realized that there were too many considerations to acccurate test how well my changes were being implemented. I also began to realize that my initial implementation of both the model and data preperation pipeline contained numerous convoluded steps.\n",
    "\n",
    "This notebook and the other files in the dir are my redesign of the model architecure and training process for the signature verification task. To save compute, I am using MNIST instead of the signature dataset. \n",
    "\n",
    "### The Key Goals fo this Notetbook are to:\n",
    "- Gain insight into possible errors in my original signature data implemplmentaion. \n",
    "- Simplify the model and training process for both readability and computational complexity\n",
    "- Achieve Some Convergence in the training process, but it is not necessary to optimize fully for the MNIST dataset.\n",
    "\n",
    "### Result:\n",
    "The above goals were achieved. There are more thourough descriptions of what specific changes were made to the model and training script in model_2_mnist.py and train_mnist.py respectively.\n"
   ]
  },
  {
   "cell_type": "markdown",
   "metadata": {},
   "source": [
    "### Here I am going to load in the dataset "
   ]
  },
  {
   "cell_type": "code",
   "execution_count": 1,
   "metadata": {},
   "outputs": [],
   "source": [
    "import torch\n",
    "from torchvision import datasets, transforms\n",
    "\n",
    "# Define a transform to normalize the data\n",
    "transform = transforms.Compose([\n",
    "    transforms.ToTensor(),\n",
    "    transforms.Normalize((0.5,), (0.5,))\n",
    "])\n",
    "\n",
    "# Download and load the training data\n",
    "trainset = datasets.MNIST('~/.pytorch/MNIST_data/', download=True, train=True, transform=transform)\n",
    "trainloader = torch.utils.data.DataLoader(trainset, batch_size=256, shuffle=True)\n",
    "\n",
    "# Download and load the test data\n",
    "testset = datasets.MNIST('~/.pytorch/MNIST_data/', download=True, train=False, transform=transform)\n",
    "testloader = torch.utils.data.DataLoader(testset, batch_size=256, shuffle=False)\n"
   ]
  },
  {
   "cell_type": "markdown",
   "metadata": {},
   "source": [
    "### Load in Model\n",
    "\n",
    "This is the adjusted model for the mnist"
   ]
  },
  {
   "cell_type": "code",
   "execution_count": 2,
   "metadata": {},
   "outputs": [],
   "source": [
    "from model_2_mnist import SiameseNet \n",
    "\n",
    "model = SiameseNet()"
   ]
  },
  {
   "cell_type": "markdown",
   "metadata": {},
   "source": [
    "Below I am running a forward pass on a single example"
   ]
  },
  {
   "cell_type": "code",
   "execution_count": 3,
   "metadata": {},
   "outputs": [
    {
     "name": "stdout",
     "output_type": "stream",
     "text": [
      "\n",
      "Output shape: torch.Size([1])\n",
      "\n",
      "Output: tensor([0.6321], grad_fn=<SigmoidBackward0>)\n",
      "\n",
      "Prediction: tensor([True])\n"
     ]
    }
   ],
   "source": [
    "# get image from trainloader\n",
    "dataiter = iter(trainloader)\n",
    "images, labels = next(dataiter)\n",
    "\n",
    "\n",
    "# get two images from the batch\n",
    "image1 = images[0].unsqueeze(0) # unsqueeze to add a batch dimension\n",
    "image2 = images[1].unsqueeze(0) # unsqueeze to add a batch dimension\n",
    "\n",
    "# get the output of the model\n",
    "output = model(image1, image2)\n",
    "\n",
    "print(\"\\nOutput shape:\", output.shape)\n",
    "print(\"\\nOutput:\", output)\n",
    "\n",
    "# perform ge function with threhshold of 0.5 with the model output\n",
    "prediction = torch.ge(output, 0.5)\n",
    "\n",
    "print(\"\\nPrediction:\", prediction)"
   ]
  },
  {
   "cell_type": "code",
   "execution_count": 4,
   "metadata": {},
   "outputs": [
    {
     "name": "stdout",
     "output_type": "stream",
     "text": [
      "Layer 0 has 36 parameters\n",
      "Layer 1 has 4 parameters\n",
      "Layer 2 has 4 parameters\n",
      "Layer 3 has 4 parameters\n",
      "Layer 4 has 144 parameters\n",
      "Layer 5 has 4 parameters\n",
      "Layer 6 has 4 parameters\n",
      "Layer 7 has 4 parameters\n",
      "Layer 8 has 288 parameters\n",
      "Layer 9 has 8 parameters\n",
      "Layer 10 has 8 parameters\n",
      "Layer 11 has 8 parameters\n",
      "Layer 12 has 576 parameters\n",
      "Layer 13 has 8 parameters\n",
      "Layer 14 has 8 parameters\n",
      "Layer 15 has 8 parameters\n",
      "Layer 16 has 1152 parameters\n",
      "Layer 17 has 16 parameters\n",
      "Layer 18 has 16 parameters\n",
      "Layer 19 has 16 parameters\n",
      "Layer 20 has 2304 parameters\n",
      "Layer 21 has 16 parameters\n",
      "Layer 22 has 16 parameters\n",
      "Layer 23 has 16 parameters\n",
      "Layer 24 has 1440 parameters\n",
      "Layer 25 has 10 parameters\n",
      "\n",
      " Total number of trainable parameters: 6118\n"
     ]
    }
   ],
   "source": [
    "# Count the number of trainable parameters\n",
    "layer_params = [p.numel() for p in model.parameters() if p.requires_grad]\n",
    "\n",
    "# print params at each layer\n",
    "for i, p in enumerate(layer_params):\n",
    "    print(f\"Layer {i} has {p} parameters\")\n",
    "\n",
    "# sum parameters\n",
    "print(f\"\\n Total number of trainable parameters: {sum(layer_params)}\")"
   ]
  },
  {
   "cell_type": "markdown",
   "metadata": {},
   "source": [
    "## Load Training Environment"
   ]
  },
  {
   "cell_type": "markdown",
   "metadata": {},
   "source": [
    "Here I am setting up the Trainer class form wihtin train_mnist.py"
   ]
  },
  {
   "cell_type": "code",
   "execution_count": 5,
   "metadata": {},
   "outputs": [
    {
     "name": "stdout",
     "output_type": "stream",
     "text": [
      "Device: cuda\n"
     ]
    }
   ],
   "source": [
    "from train_mnist import Trainer\n",
    "import torch.nn as nn\n",
    "\n",
    "#set criterion and optimizer\n",
    "criterion = nn.BCELoss()\n",
    "optimizer = torch.optim.Adam(model.parameters(), lr=0.0001)\n",
    "\n",
    "#set epochs\n",
    "epochs = 200\n",
    "\n",
    "#set device\n",
    "device = torch.device('cuda' if torch.cuda.is_available() else 'cpu')\n",
    "print(f\"Device: {device}\")\n",
    "\n",
    "#set early stopping patience\n",
    "patience = 20\n",
    "\n",
    "#set log frequency for model eval \n",
    "log_frequency = 1\n",
    "\n",
    "# create trainer instance\n",
    "trainer = Trainer( model = model,\n",
    "                   criterion = criterion, \n",
    "                   optimizer = optimizer, \n",
    "                   train_loader = trainloader, \n",
    "                   val_loader = testloader, \n",
    "                   epochs = epochs, \n",
    "                   device = device, \n",
    "                   early_stopping_patience = patience, \n",
    "                   log_freq = log_frequency, \n",
    "                   batch_size=256)"
   ]
  },
  {
   "cell_type": "code",
   "execution_count": 7,
   "metadata": {},
   "outputs": [
    {
     "name": "stdout",
     "output_type": "stream",
     "text": [
      "starting training...\n",
      "\n",
      "\n",
      "Epoch 0: Train Loss: 0.70140 -- Train Accuracy 0.520 -- Val Loss: 0.32116 -- Val Accuracy: 0.283\n",
      "Epoch 1: Train Loss: 0.66774 -- Train Accuracy 0.585 -- Val Loss: 0.31418 -- Val Accuracy: 0.297\n",
      "Epoch 2: Train Loss: 0.65475 -- Train Accuracy 0.618 -- Val Loss: 0.30982 -- Val Accuracy: 0.309\n",
      "Epoch 3: Train Loss: 0.65231 -- Train Accuracy 0.622 -- Val Loss: 0.30690 -- Val Accuracy: 0.314\n",
      "Epoch 4: Train Loss: 0.64827 -- Train Accuracy 0.639 -- Val Loss: 0.30575 -- Val Accuracy: 0.319\n",
      "Epoch 5: Train Loss: 0.64531 -- Train Accuracy 0.646 -- Val Loss: 0.30519 -- Val Accuracy: 0.319\n",
      "Epoch 6: Train Loss: 0.64138 -- Train Accuracy 0.655 -- Val Loss: 0.30335 -- Val Accuracy: 0.328\n",
      "Epoch 7: Train Loss: 0.64065 -- Train Accuracy 0.657 -- Val Loss: 0.30259 -- Val Accuracy: 0.332\n",
      "Epoch 8: Train Loss: 0.63567 -- Train Accuracy 0.674 -- Val Loss: 0.30171 -- Val Accuracy: 0.334\n",
      "Epoch 9: Train Loss: 0.63443 -- Train Accuracy 0.673 -- Val Loss: 0.30131 -- Val Accuracy: 0.332\n",
      "Epoch 10: Train Loss: 0.63435 -- Train Accuracy 0.677 -- Val Loss: 0.30085 -- Val Accuracy: 0.338\n",
      "Epoch 11: Train Loss: 0.63598 -- Train Accuracy 0.670 -- Val Loss: 0.30050 -- Val Accuracy: 0.334\n",
      "Epoch 12: Train Loss: 0.63327 -- Train Accuracy 0.682 -- Val Loss: 0.30009 -- Val Accuracy: 0.334\n",
      "Epoch 13: Train Loss: 0.63177 -- Train Accuracy 0.680 -- Val Loss: 0.29917 -- Val Accuracy: 0.339\n",
      "Epoch 14: Train Loss: 0.63125 -- Train Accuracy 0.682 -- Val Loss: 0.29953 -- Val Accuracy: 0.339\n",
      "Epoch 15: Train Loss: 0.62973 -- Train Accuracy 0.684 -- Val Loss: 0.29901 -- Val Accuracy: 0.344\n",
      "Epoch 16: Train Loss: 0.62813 -- Train Accuracy 0.695 -- Val Loss: 0.29899 -- Val Accuracy: 0.341\n",
      "Epoch 17: Train Loss: 0.62792 -- Train Accuracy 0.694 -- Val Loss: 0.29853 -- Val Accuracy: 0.344\n",
      "Epoch 18: Train Loss: 0.62945 -- Train Accuracy 0.680 -- Val Loss: 0.29804 -- Val Accuracy: 0.340\n",
      "Epoch 19: Train Loss: 0.62900 -- Train Accuracy 0.690 -- Val Loss: 0.29815 -- Val Accuracy: 0.345\n",
      "Epoch 20: Train Loss: 0.62748 -- Train Accuracy 0.696 -- Val Loss: 0.29773 -- Val Accuracy: 0.346\n",
      "Epoch 21: Train Loss: 0.62611 -- Train Accuracy 0.691 -- Val Loss: 0.29755 -- Val Accuracy: 0.344\n",
      "Epoch 22: Train Loss: 0.62460 -- Train Accuracy 0.693 -- Val Loss: 0.29733 -- Val Accuracy: 0.344\n",
      "Epoch 23: Train Loss: 0.62482 -- Train Accuracy 0.695 -- Val Loss: 0.29735 -- Val Accuracy: 0.344\n",
      "Epoch 24: Train Loss: 0.62557 -- Train Accuracy 0.697 -- Val Loss: 0.29721 -- Val Accuracy: 0.345\n",
      "Epoch 25: Train Loss: 0.62364 -- Train Accuracy 0.702 -- Val Loss: 0.29674 -- Val Accuracy: 0.350\n",
      "Epoch 26: Train Loss: 0.62455 -- Train Accuracy 0.696 -- Val Loss: 0.29671 -- Val Accuracy: 0.343\n",
      "Epoch 27: Train Loss: 0.62500 -- Train Accuracy 0.704 -- Val Loss: 0.29700 -- Val Accuracy: 0.345\n",
      "Epoch 28: Train Loss: 0.62051 -- Train Accuracy 0.715 -- Val Loss: 0.29622 -- Val Accuracy: 0.351\n",
      "Epoch 29: Train Loss: 0.62296 -- Train Accuracy 0.712 -- Val Loss: 0.29670 -- Val Accuracy: 0.351\n",
      "Epoch 30: Train Loss: 0.62321 -- Train Accuracy 0.711 -- Val Loss: 0.29607 -- Val Accuracy: 0.352\n",
      "Epoch 31: Train Loss: 0.62078 -- Train Accuracy 0.722 -- Val Loss: 0.29595 -- Val Accuracy: 0.356\n",
      "Epoch 32: Train Loss: 0.62256 -- Train Accuracy 0.721 -- Val Loss: 0.29628 -- Val Accuracy: 0.354\n",
      "Epoch 33: Train Loss: 0.62304 -- Train Accuracy 0.717 -- Val Loss: 0.29602 -- Val Accuracy: 0.354\n",
      "Epoch 34: Train Loss: 0.62263 -- Train Accuracy 0.715 -- Val Loss: 0.29612 -- Val Accuracy: 0.354\n",
      "Epoch 35: Train Loss: 0.62029 -- Train Accuracy 0.729 -- Val Loss: 0.29618 -- Val Accuracy: 0.352\n",
      "Epoch 36: Train Loss: 0.62052 -- Train Accuracy 0.732 -- Val Loss: 0.29548 -- Val Accuracy: 0.357\n",
      "Epoch 37: Train Loss: 0.61964 -- Train Accuracy 0.733 -- Val Loss: 0.29553 -- Val Accuracy: 0.357\n",
      "Epoch 38: Train Loss: 0.62093 -- Train Accuracy 0.721 -- Val Loss: 0.29489 -- Val Accuracy: 0.355\n",
      "Epoch 39: Train Loss: 0.61986 -- Train Accuracy 0.728 -- Val Loss: 0.29486 -- Val Accuracy: 0.360\n",
      "Epoch 40: Train Loss: 0.61976 -- Train Accuracy 0.720 -- Val Loss: 0.29504 -- Val Accuracy: 0.354\n",
      "Epoch 41: Train Loss: 0.62122 -- Train Accuracy 0.719 -- Val Loss: 0.29463 -- Val Accuracy: 0.358\n",
      "Epoch 42: Train Loss: 0.61937 -- Train Accuracy 0.734 -- Val Loss: 0.29471 -- Val Accuracy: 0.359\n",
      "Epoch 43: Train Loss: 0.61668 -- Train Accuracy 0.750 -- Val Loss: 0.29509 -- Val Accuracy: 0.365\n",
      "Epoch 44: Train Loss: 0.61679 -- Train Accuracy 0.751 -- Val Loss: 0.29442 -- Val Accuracy: 0.365\n",
      "Epoch 45: Train Loss: 0.61793 -- Train Accuracy 0.747 -- Val Loss: 0.29382 -- Val Accuracy: 0.367\n",
      "Epoch 46: Train Loss: 0.61776 -- Train Accuracy 0.744 -- Val Loss: 0.29405 -- Val Accuracy: 0.367\n",
      "Epoch 47: Train Loss: 0.61770 -- Train Accuracy 0.744 -- Val Loss: 0.29367 -- Val Accuracy: 0.369\n",
      "Epoch 48: Train Loss: 0.61878 -- Train Accuracy 0.748 -- Val Loss: 0.29343 -- Val Accuracy: 0.372\n",
      "Epoch 49: Train Loss: 0.61654 -- Train Accuracy 0.757 -- Val Loss: 0.29425 -- Val Accuracy: 0.368\n",
      "Epoch 50: Train Loss: 0.61873 -- Train Accuracy 0.754 -- Val Loss: 0.29387 -- Val Accuracy: 0.371\n",
      "Epoch 51: Train Loss: 0.61738 -- Train Accuracy 0.755 -- Val Loss: 0.29386 -- Val Accuracy: 0.377\n",
      "Epoch 52: Train Loss: 0.61695 -- Train Accuracy 0.759 -- Val Loss: 0.29331 -- Val Accuracy: 0.375\n",
      "Epoch 53: Train Loss: 0.61903 -- Train Accuracy 0.759 -- Val Loss: 0.29371 -- Val Accuracy: 0.379\n",
      "Epoch 54: Train Loss: 0.61533 -- Train Accuracy 0.774 -- Val Loss: 0.29317 -- Val Accuracy: 0.379\n",
      "Epoch 55: Train Loss: 0.61583 -- Train Accuracy 0.769 -- Val Loss: 0.29330 -- Val Accuracy: 0.381\n",
      "Epoch 56: Train Loss: 0.61561 -- Train Accuracy 0.773 -- Val Loss: 0.29313 -- Val Accuracy: 0.383\n",
      "Epoch 57: Train Loss: 0.61502 -- Train Accuracy 0.778 -- Val Loss: 0.29299 -- Val Accuracy: 0.387\n",
      "Epoch 58: Train Loss: 0.61636 -- Train Accuracy 0.782 -- Val Loss: 0.29312 -- Val Accuracy: 0.385\n",
      "Epoch 59: Train Loss: 0.61645 -- Train Accuracy 0.782 -- Val Loss: 0.29348 -- Val Accuracy: 0.380\n",
      "Epoch 60: Train Loss: 0.61518 -- Train Accuracy 0.782 -- Val Loss: 0.29308 -- Val Accuracy: 0.386\n",
      "Epoch 61: Train Loss: 0.61572 -- Train Accuracy 0.779 -- Val Loss: 0.29353 -- Val Accuracy: 0.382\n",
      "Epoch 62: Train Loss: 0.61556 -- Train Accuracy 0.777 -- Val Loss: 0.29315 -- Val Accuracy: 0.384\n",
      "Epoch 63: Train Loss: 0.61503 -- Train Accuracy 0.793 -- Val Loss: 0.29282 -- Val Accuracy: 0.393\n",
      "Epoch 64: Train Loss: 0.61518 -- Train Accuracy 0.785 -- Val Loss: 0.29264 -- Val Accuracy: 0.391\n",
      "Epoch 65: Train Loss: 0.61362 -- Train Accuracy 0.792 -- Val Loss: 0.29345 -- Val Accuracy: 0.384\n",
      "Epoch 66: Train Loss: 0.61414 -- Train Accuracy 0.791 -- Val Loss: 0.29298 -- Val Accuracy: 0.389\n",
      "Epoch 67: Train Loss: 0.61340 -- Train Accuracy 0.807 -- Val Loss: 0.29332 -- Val Accuracy: 0.394\n",
      "Epoch 68: Train Loss: 0.61391 -- Train Accuracy 0.806 -- Val Loss: 0.29252 -- Val Accuracy: 0.397\n",
      "Epoch 69: Train Loss: 0.61402 -- Train Accuracy 0.799 -- Val Loss: 0.29275 -- Val Accuracy: 0.391\n",
      "Epoch 70: Train Loss: 0.61363 -- Train Accuracy 0.804 -- Val Loss: 0.29251 -- Val Accuracy: 0.391\n",
      "Epoch 71: Train Loss: 0.61362 -- Train Accuracy 0.811 -- Val Loss: 0.29248 -- Val Accuracy: 0.398\n",
      "Epoch 72: Train Loss: 0.61280 -- Train Accuracy 0.814 -- Val Loss: 0.29311 -- Val Accuracy: 0.394\n",
      "Epoch 73: Train Loss: 0.61381 -- Train Accuracy 0.810 -- Val Loss: 0.29220 -- Val Accuracy: 0.398\n",
      "Epoch 74: Train Loss: 0.61458 -- Train Accuracy 0.809 -- Val Loss: 0.29258 -- Val Accuracy: 0.396\n",
      "Epoch 75: Train Loss: 0.61352 -- Train Accuracy 0.807 -- Val Loss: 0.29240 -- Val Accuracy: 0.396\n",
      "Epoch 76: Train Loss: 0.61386 -- Train Accuracy 0.808 -- Val Loss: 0.29224 -- Val Accuracy: 0.401\n",
      "Epoch 77: Train Loss: 0.61399 -- Train Accuracy 0.802 -- Val Loss: 0.29258 -- Val Accuracy: 0.399\n",
      "Epoch 78: Train Loss: 0.61186 -- Train Accuracy 0.812 -- Val Loss: 0.29193 -- Val Accuracy: 0.402\n",
      "Epoch 79: Train Loss: 0.61421 -- Train Accuracy 0.819 -- Val Loss: 0.29203 -- Val Accuracy: 0.406\n",
      "Epoch 80: Train Loss: 0.61387 -- Train Accuracy 0.821 -- Val Loss: 0.29205 -- Val Accuracy: 0.405\n",
      "Epoch 81: Train Loss: 0.61392 -- Train Accuracy 0.816 -- Val Loss: 0.29207 -- Val Accuracy: 0.403\n",
      "Epoch 82: Train Loss: 0.61321 -- Train Accuracy 0.813 -- Val Loss: 0.29191 -- Val Accuracy: 0.402\n",
      "Epoch 83: Train Loss: 0.61369 -- Train Accuracy 0.817 -- Val Loss: 0.29199 -- Val Accuracy: 0.403\n"
     ]
    },
    {
     "name": "stdout",
     "output_type": "stream",
     "text": [
      "Epoch 84: Train Loss: 0.61296 -- Train Accuracy 0.825 -- Val Loss: 0.29205 -- Val Accuracy: 0.408\n",
      "Epoch 85: Train Loss: 0.61138 -- Train Accuracy 0.831 -- Val Loss: 0.29217 -- Val Accuracy: 0.404\n",
      "Epoch 86: Train Loss: 0.61318 -- Train Accuracy 0.824 -- Val Loss: 0.29159 -- Val Accuracy: 0.408\n",
      "Epoch 87: Train Loss: 0.61125 -- Train Accuracy 0.830 -- Val Loss: 0.29224 -- Val Accuracy: 0.409\n",
      "Epoch 88: Train Loss: 0.61157 -- Train Accuracy 0.827 -- Val Loss: 0.29202 -- Val Accuracy: 0.410\n",
      "Epoch 89: Train Loss: 0.61264 -- Train Accuracy 0.831 -- Val Loss: 0.29152 -- Val Accuracy: 0.410\n",
      "Epoch 90: Train Loss: 0.61218 -- Train Accuracy 0.827 -- Val Loss: 0.29162 -- Val Accuracy: 0.414\n",
      "Epoch 91: Train Loss: 0.61252 -- Train Accuracy 0.836 -- Val Loss: 0.29185 -- Val Accuracy: 0.409\n",
      "Epoch 92: Train Loss: 0.61102 -- Train Accuracy 0.845 -- Val Loss: 0.29169 -- Val Accuracy: 0.414\n",
      "Epoch 93: Train Loss: 0.61255 -- Train Accuracy 0.841 -- Val Loss: 0.29161 -- Val Accuracy: 0.415\n",
      "Epoch 94: Train Loss: 0.61170 -- Train Accuracy 0.841 -- Val Loss: 0.29152 -- Val Accuracy: 0.416\n",
      "Epoch 95: Train Loss: 0.61285 -- Train Accuracy 0.834 -- Val Loss: 0.29165 -- Val Accuracy: 0.414\n",
      "Epoch 96: Train Loss: 0.61175 -- Train Accuracy 0.848 -- Val Loss: 0.29165 -- Val Accuracy: 0.413\n",
      "Epoch 97: Train Loss: 0.61242 -- Train Accuracy 0.836 -- Val Loss: 0.29176 -- Val Accuracy: 0.414\n",
      "Epoch 98: Train Loss: 0.61111 -- Train Accuracy 0.854 -- Val Loss: 0.29152 -- Val Accuracy: 0.416\n",
      "Epoch 99: Train Loss: 0.61123 -- Train Accuracy 0.847 -- Val Loss: 0.29182 -- Val Accuracy: 0.415\n",
      "Epoch 100: Train Loss: 0.61197 -- Train Accuracy 0.847 -- Val Loss: 0.29132 -- Val Accuracy: 0.416\n",
      "Epoch 101: Train Loss: 0.61172 -- Train Accuracy 0.850 -- Val Loss: 0.29137 -- Val Accuracy: 0.417\n",
      "Epoch 102: Train Loss: 0.60979 -- Train Accuracy 0.857 -- Val Loss: 0.29141 -- Val Accuracy: 0.418\n",
      "Epoch 103: Train Loss: 0.61272 -- Train Accuracy 0.851 -- Val Loss: 0.29166 -- Val Accuracy: 0.421\n",
      "Epoch 104: Train Loss: 0.61192 -- Train Accuracy 0.853 -- Val Loss: 0.29128 -- Val Accuracy: 0.419\n",
      "Epoch 105: Train Loss: 0.61131 -- Train Accuracy 0.852 -- Val Loss: 0.29105 -- Val Accuracy: 0.424\n",
      "Epoch 106: Train Loss: 0.61040 -- Train Accuracy 0.857 -- Val Loss: 0.29110 -- Val Accuracy: 0.422\n",
      "Epoch 107: Train Loss: 0.61129 -- Train Accuracy 0.855 -- Val Loss: 0.29160 -- Val Accuracy: 0.420\n",
      "Epoch 108: Train Loss: 0.61070 -- Train Accuracy 0.857 -- Val Loss: 0.29115 -- Val Accuracy: 0.424\n",
      "Epoch 109: Train Loss: 0.60954 -- Train Accuracy 0.859 -- Val Loss: 0.29138 -- Val Accuracy: 0.420\n",
      "Epoch 110: Train Loss: 0.61112 -- Train Accuracy 0.856 -- Val Loss: 0.29163 -- Val Accuracy: 0.423\n",
      "Epoch 111: Train Loss: 0.61096 -- Train Accuracy 0.862 -- Val Loss: 0.29098 -- Val Accuracy: 0.422\n",
      "Epoch 112: Train Loss: 0.61030 -- Train Accuracy 0.863 -- Val Loss: 0.29084 -- Val Accuracy: 0.425\n",
      "Epoch 113: Train Loss: 0.61149 -- Train Accuracy 0.848 -- Val Loss: 0.29073 -- Val Accuracy: 0.424\n",
      "Epoch 114: Train Loss: 0.61169 -- Train Accuracy 0.857 -- Val Loss: 0.29080 -- Val Accuracy: 0.427\n",
      "Epoch 115: Train Loss: 0.61036 -- Train Accuracy 0.864 -- Val Loss: 0.29128 -- Val Accuracy: 0.426\n",
      "Epoch 116: Train Loss: 0.61091 -- Train Accuracy 0.860 -- Val Loss: 0.29090 -- Val Accuracy: 0.430\n",
      "Epoch 117: Train Loss: 0.61133 -- Train Accuracy 0.860 -- Val Loss: 0.29081 -- Val Accuracy: 0.426\n",
      "Epoch 118: Train Loss: 0.61172 -- Train Accuracy 0.862 -- Val Loss: 0.29092 -- Val Accuracy: 0.423\n",
      "Epoch 119: Train Loss: 0.61039 -- Train Accuracy 0.862 -- Val Loss: 0.29083 -- Val Accuracy: 0.423\n",
      "Epoch 120: Train Loss: 0.61268 -- Train Accuracy 0.860 -- Val Loss: 0.29075 -- Val Accuracy: 0.427\n",
      "Epoch 121: Train Loss: 0.60991 -- Train Accuracy 0.868 -- Val Loss: 0.29087 -- Val Accuracy: 0.426\n",
      "Epoch 122: Train Loss: 0.61063 -- Train Accuracy 0.875 -- Val Loss: 0.29122 -- Val Accuracy: 0.424\n",
      "Epoch 123: Train Loss: 0.61110 -- Train Accuracy 0.863 -- Val Loss: 0.29074 -- Val Accuracy: 0.427\n",
      "Epoch 124: Train Loss: 0.61121 -- Train Accuracy 0.869 -- Val Loss: 0.29080 -- Val Accuracy: 0.426\n",
      "Epoch 125: Train Loss: 0.61221 -- Train Accuracy 0.858 -- Val Loss: 0.29108 -- Val Accuracy: 0.422\n",
      "Epoch 126: Train Loss: 0.61086 -- Train Accuracy 0.870 -- Val Loss: 0.29100 -- Val Accuracy: 0.427\n",
      "Epoch 127: Train Loss: 0.61039 -- Train Accuracy 0.872 -- Val Loss: 0.29083 -- Val Accuracy: 0.431\n",
      "Epoch 128: Train Loss: 0.61116 -- Train Accuracy 0.871 -- Val Loss: 0.29174 -- Val Accuracy: 0.424\n",
      "Epoch 129: Train Loss: 0.60978 -- Train Accuracy 0.872 -- Val Loss: 0.29132 -- Val Accuracy: 0.428\n",
      "Epoch 130: Train Loss: 0.61094 -- Train Accuracy 0.870 -- Val Loss: 0.29113 -- Val Accuracy: 0.430\n",
      "Epoch 131: Train Loss: 0.61135 -- Train Accuracy 0.866 -- Val Loss: 0.29113 -- Val Accuracy: 0.429\n",
      "Epoch 132: Train Loss: 0.61017 -- Train Accuracy 0.873 -- Val Loss: 0.29105 -- Val Accuracy: 0.432\n",
      "Epoch 133: Train Loss: 0.60986 -- Train Accuracy 0.876 -- Val Loss: 0.29117 -- Val Accuracy: 0.430\n",
      "Epoch 134: Train Loss: 0.61021 -- Train Accuracy 0.863 -- Val Loss: 0.29060 -- Val Accuracy: 0.428\n",
      "Epoch 135: Train Loss: 0.61144 -- Train Accuracy 0.867 -- Val Loss: 0.29088 -- Val Accuracy: 0.428\n",
      "Epoch 136: Train Loss: 0.61053 -- Train Accuracy 0.870 -- Val Loss: 0.29081 -- Val Accuracy: 0.428\n",
      "Epoch 137: Train Loss: 0.60944 -- Train Accuracy 0.874 -- Val Loss: 0.29097 -- Val Accuracy: 0.432\n",
      "Epoch 138: Train Loss: 0.61035 -- Train Accuracy 0.875 -- Val Loss: 0.29096 -- Val Accuracy: 0.431\n",
      "Epoch 139: Train Loss: 0.61004 -- Train Accuracy 0.876 -- Val Loss: 0.29122 -- Val Accuracy: 0.432\n",
      "Epoch 140: Train Loss: 0.61039 -- Train Accuracy 0.878 -- Val Loss: 0.29097 -- Val Accuracy: 0.428\n",
      "Epoch 141: Train Loss: 0.60982 -- Train Accuracy 0.873 -- Val Loss: 0.29094 -- Val Accuracy: 0.430\n",
      "Epoch 142: Train Loss: 0.61038 -- Train Accuracy 0.875 -- Val Loss: 0.29106 -- Val Accuracy: 0.431\n",
      "Epoch 143: Train Loss: 0.60999 -- Train Accuracy 0.876 -- Val Loss: 0.29077 -- Val Accuracy: 0.430\n",
      "Epoch 144: Train Loss: 0.60996 -- Train Accuracy 0.870 -- Val Loss: 0.29062 -- Val Accuracy: 0.428\n",
      "Epoch 145: Train Loss: 0.60866 -- Train Accuracy 0.871 -- Val Loss: 0.29087 -- Val Accuracy: 0.429\n",
      "Epoch 146: Train Loss: 0.60918 -- Train Accuracy 0.878 -- Val Loss: 0.29126 -- Val Accuracy: 0.430\n",
      "Epoch 147: Train Loss: 0.60934 -- Train Accuracy 0.882 -- Val Loss: 0.29092 -- Val Accuracy: 0.432\n",
      "Epoch 148: Train Loss: 0.61013 -- Train Accuracy 0.876 -- Val Loss: 0.29072 -- Val Accuracy: 0.426\n",
      "Epoch 149: Train Loss: 0.60923 -- Train Accuracy 0.878 -- Val Loss: 0.29065 -- Val Accuracy: 0.434\n",
      "Epoch 150: Train Loss: 0.60928 -- Train Accuracy 0.886 -- Val Loss: 0.29049 -- Val Accuracy: 0.435\n",
      "Epoch 151: Train Loss: 0.61020 -- Train Accuracy 0.881 -- Val Loss: 0.29110 -- Val Accuracy: 0.430\n",
      "Epoch 152: Train Loss: 0.60890 -- Train Accuracy 0.882 -- Val Loss: 0.29104 -- Val Accuracy: 0.431\n",
      "Epoch 153: Train Loss: 0.60953 -- Train Accuracy 0.892 -- Val Loss: 0.29069 -- Val Accuracy: 0.437\n",
      "Epoch 154: Train Loss: 0.60879 -- Train Accuracy 0.883 -- Val Loss: 0.29092 -- Val Accuracy: 0.433\n",
      "Epoch 155: Train Loss: 0.60982 -- Train Accuracy 0.887 -- Val Loss: 0.29132 -- Val Accuracy: 0.431\n",
      "Epoch 156: Train Loss: 0.61053 -- Train Accuracy 0.885 -- Val Loss: 0.29076 -- Val Accuracy: 0.438\n",
      "Epoch 157: Train Loss: 0.61106 -- Train Accuracy 0.880 -- Val Loss: 0.29091 -- Val Accuracy: 0.430\n",
      "Epoch 158: Train Loss: 0.60853 -- Train Accuracy 0.886 -- Val Loss: 0.29067 -- Val Accuracy: 0.430\n",
      "Epoch 159: Train Loss: 0.60960 -- Train Accuracy 0.889 -- Val Loss: 0.29043 -- Val Accuracy: 0.440\n",
      "Epoch 160: Train Loss: 0.60877 -- Train Accuracy 0.886 -- Val Loss: 0.29123 -- Val Accuracy: 0.434\n",
      "Epoch 161: Train Loss: 0.60960 -- Train Accuracy 0.888 -- Val Loss: 0.29069 -- Val Accuracy: 0.430\n",
      "Epoch 162: Train Loss: 0.60869 -- Train Accuracy 0.896 -- Val Loss: 0.29101 -- Val Accuracy: 0.434\n",
      "Epoch 163: Train Loss: 0.61027 -- Train Accuracy 0.883 -- Val Loss: 0.29084 -- Val Accuracy: 0.433\n",
      "Epoch 164: Train Loss: 0.60959 -- Train Accuracy 0.879 -- Val Loss: 0.29059 -- Val Accuracy: 0.434\n",
      "Epoch 165: Train Loss: 0.60893 -- Train Accuracy 0.887 -- Val Loss: 0.29087 -- Val Accuracy: 0.432\n",
      "Epoch 166: Train Loss: 0.60925 -- Train Accuracy 0.889 -- Val Loss: 0.29093 -- Val Accuracy: 0.434\n"
     ]
    },
    {
     "name": "stdout",
     "output_type": "stream",
     "text": [
      "Epoch 167: Train Loss: 0.60982 -- Train Accuracy 0.894 -- Val Loss: 0.29063 -- Val Accuracy: 0.437\n",
      "Epoch 168: Train Loss: 0.60892 -- Train Accuracy 0.882 -- Val Loss: 0.29117 -- Val Accuracy: 0.429\n",
      "Epoch 169: Train Loss: 0.60956 -- Train Accuracy 0.882 -- Val Loss: 0.29082 -- Val Accuracy: 0.434\n",
      "Epoch 170: Train Loss: 0.60928 -- Train Accuracy 0.890 -- Val Loss: 0.29076 -- Val Accuracy: 0.434\n",
      "Epoch 171: Train Loss: 0.61024 -- Train Accuracy 0.894 -- Val Loss: 0.29078 -- Val Accuracy: 0.437\n",
      "Epoch 172: Train Loss: 0.60976 -- Train Accuracy 0.888 -- Val Loss: 0.29109 -- Val Accuracy: 0.436\n",
      "Epoch 173: Train Loss: 0.60851 -- Train Accuracy 0.896 -- Val Loss: 0.29102 -- Val Accuracy: 0.432\n",
      "Epoch 174: Train Loss: 0.60837 -- Train Accuracy 0.896 -- Val Loss: 0.29078 -- Val Accuracy: 0.437\n",
      "Epoch 175: Train Loss: 0.60887 -- Train Accuracy 0.900 -- Val Loss: 0.29082 -- Val Accuracy: 0.441\n",
      "Epoch 176: Train Loss: 0.61013 -- Train Accuracy 0.884 -- Val Loss: 0.29085 -- Val Accuracy: 0.438\n",
      "Epoch 177: Train Loss: 0.61023 -- Train Accuracy 0.893 -- Val Loss: 0.29068 -- Val Accuracy: 0.437\n",
      "Epoch 178: Train Loss: 0.60997 -- Train Accuracy 0.891 -- Val Loss: 0.29070 -- Val Accuracy: 0.441\n",
      "Epoch 179: Train Loss: 0.60905 -- Train Accuracy 0.894 -- Val Loss: 0.29039 -- Val Accuracy: 0.441\n",
      "Epoch 180: Train Loss: 0.60986 -- Train Accuracy 0.887 -- Val Loss: 0.29063 -- Val Accuracy: 0.438\n",
      "Epoch 181: Train Loss: 0.60915 -- Train Accuracy 0.895 -- Val Loss: 0.29073 -- Val Accuracy: 0.436\n",
      "Epoch 182: Train Loss: 0.60919 -- Train Accuracy 0.902 -- Val Loss: 0.29044 -- Val Accuracy: 0.444\n",
      "Epoch 183: Train Loss: 0.60786 -- Train Accuracy 0.891 -- Val Loss: 0.29077 -- Val Accuracy: 0.433\n",
      "Epoch 184: Train Loss: 0.60914 -- Train Accuracy 0.890 -- Val Loss: 0.29072 -- Val Accuracy: 0.434\n",
      "Epoch 185: Train Loss: 0.60898 -- Train Accuracy 0.897 -- Val Loss: 0.29095 -- Val Accuracy: 0.440\n",
      "Epoch 186: Train Loss: 0.60929 -- Train Accuracy 0.899 -- Val Loss: 0.29076 -- Val Accuracy: 0.439\n",
      "Epoch 187: Train Loss: 0.60959 -- Train Accuracy 0.892 -- Val Loss: 0.29097 -- Val Accuracy: 0.438\n",
      "Epoch 188: Train Loss: 0.60820 -- Train Accuracy 0.901 -- Val Loss: 0.29062 -- Val Accuracy: 0.437\n",
      "Epoch 189: Train Loss: 0.60828 -- Train Accuracy 0.896 -- Val Loss: 0.29052 -- Val Accuracy: 0.445\n",
      "Epoch 190: Train Loss: 0.60879 -- Train Accuracy 0.901 -- Val Loss: 0.29061 -- Val Accuracy: 0.442\n",
      "Epoch 191: Train Loss: 0.60881 -- Train Accuracy 0.905 -- Val Loss: 0.29074 -- Val Accuracy: 0.443\n",
      "Epoch 192: Train Loss: 0.60883 -- Train Accuracy 0.903 -- Val Loss: 0.29033 -- Val Accuracy: 0.441\n",
      "Epoch 193: Train Loss: 0.60897 -- Train Accuracy 0.892 -- Val Loss: 0.29056 -- Val Accuracy: 0.438\n",
      "Epoch 194: Train Loss: 0.60862 -- Train Accuracy 0.897 -- Val Loss: 0.29056 -- Val Accuracy: 0.441\n",
      "Epoch 195: Train Loss: 0.60895 -- Train Accuracy 0.898 -- Val Loss: 0.29049 -- Val Accuracy: 0.441\n",
      "Epoch 196: Train Loss: 0.60857 -- Train Accuracy 0.904 -- Val Loss: 0.29057 -- Val Accuracy: 0.444\n",
      "Epoch 197: Train Loss: 0.60922 -- Train Accuracy 0.902 -- Val Loss: 0.29044 -- Val Accuracy: 0.446\n",
      "Epoch 198: Train Loss: 0.60843 -- Train Accuracy 0.905 -- Val Loss: 0.29052 -- Val Accuracy: 0.444\n",
      "Epoch 199: Train Loss: 0.60772 -- Train Accuracy 0.911 -- Val Loss: 0.29094 -- Val Accuracy: 0.443\n",
      "Epoch 200: Train Loss: 0.60848 -- Train Accuracy 0.907 -- Val Loss: 0.29058 -- Val Accuracy: 0.442\n",
      "\n",
      "Training time: 2642.8780450820923\n"
     ]
    }
   ],
   "source": [
    "import time\n",
    "\n",
    "print(\"starting training...\\n\\n\")\n",
    "\n",
    "start = time.time()\n",
    "\n",
    "best_model, historical_loss, historical_acc = trainer.train()    \n",
    "\n",
    "end = time.time()\n",
    "\n",
    "print(f\"\\nTraining time: {end - start}\")"
   ]
  },
  {
   "cell_type": "code",
   "execution_count": 8,
   "metadata": {},
   "outputs": [
    {
     "data": {
      "text/plain": [
       "<matplotlib.legend.Legend at 0x7fa4e7bd3970>"
      ]
     },
     "execution_count": 8,
     "metadata": {},
     "output_type": "execute_result"
    },
    {
     "data": {
      "image/png": "[encoded data removed]",
      "text/plain": [
       "<Figure size 640x480 with 1 Axes>"
      ]
     },
     "metadata": {},
     "output_type": "display_data"
    }
   ],
   "source": [
    "import matplotlib.pyplot as plt\n",
    "\n",
    "#plot python lists historical_loss and historical_acc\n",
    "plt.plot(historical_loss, label='Training loss')\n",
    "plt.legend(frameon=False)\n"
   ]
  },
  {
   "cell_type": "code",
   "execution_count": 11,
   "metadata": {},
   "outputs": [],
   "source": [
    "# Define a filepath to save the model\n",
    "filepath = 'siamese_net_mnist.pth'\n",
    "\n",
    "# Save the model’s state_dict\n",
    "torch.save(best_model.state_dict(), filepath)"
   ]
  }
 ],
 "metadata": {
  "kernelspec": {
   "display_name": "conda_pytorch_p310",
   "language": "python",
   "name": "conda_pytorch_p310"
  },
  "language_info": {
   "codemirror_mode": {
    "name": "ipython",
    "version": 3
   },
   "file_extension": ".py",
   "mimetype": "text/x-python",
   "name": "python",
   "nbconvert_exporter": "python",
   "pygments_lexer": "ipython3",
   "version": "3.10.12"
  }
 },
 "nbformat": 4,
 "nbformat_minor": 2
}
