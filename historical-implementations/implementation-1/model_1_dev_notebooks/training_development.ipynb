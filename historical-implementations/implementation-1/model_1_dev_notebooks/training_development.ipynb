{
 "cells": [
  {
   "cell_type": "markdown",
   "metadata": {},
   "source": [
    "# Training Environment Development "
   ]
  },
  {
   "cell_type": "markdown",
   "metadata": {},
   "source": [
    "In this notebook I develop the training script for the signature similarity model. This is not the environment where I will train the model, however."
   ]
  },
  {
   "cell_type": "markdown",
   "metadata": {},
   "source": [
    "### Load Model"
   ]
  },
  {
   "cell_type": "code",
   "execution_count": 1,
   "metadata": {},
   "outputs": [],
   "source": [
    "from model import BiEncoder\n",
    "\n",
    "# create model instance with cosine similarity threshold of 0.5\n",
    "signature_model = BiEncoder(threshold=0.5)"
   ]
  },
  {
   "cell_type": "code",
   "execution_count": 2,
   "metadata": {},
   "outputs": [
    {
     "name": "stdout",
     "output_type": "stream",
     "text": [
      "Total number of parameters: 460536\n"
     ]
    }
   ],
   "source": [
    "total_params = sum(p.numel() for p in signature_model.parameters())\n",
    "print(f'Total number of parameters: {total_params}')"
   ]
  },
  {
   "cell_type": "markdown",
   "metadata": {},
   "source": [
    "### Load Data"
   ]
  },
  {
   "cell_type": "code",
   "execution_count": 3,
   "metadata": {},
   "outputs": [],
   "source": [
    "import os\n",
    "import torch\n",
    "\n",
    "data_dir = os.path.join(os.getcwd(), \"data\")\n",
    "\n",
    "# load train.pt and val.pt\n",
    "\n",
    "train_examples = torch.load(os.path.join(data_dir, \"train_examples.pt\"))\n",
    "train_labels = torch.load(os.path.join(data_dir, \"train_labels.pt\"))\n",
    "\n",
    "val_examples = torch.load(os.path.join(data_dir, \"val_examples.pt\"))\n",
    "val_labels = torch.load(os.path.join(data_dir, \"val_labels.pt\"))\n",
    "\n",
    "#set requires_grad to True for data so backpropagation works\n",
    "train_examples.requires_grad = True\n",
    "train_labels.requires_grad = True\n",
    "val_examples.requires_grad = True\n",
    "val_labels.requires_grad = True"
   ]
  },
  {
   "cell_type": "markdown",
   "metadata": {},
   "source": [
    "### Create Tensor Dataset\n",
    "The Tensor_To_Dataset is a custom subclass of torchs Dataset module that will be used to seperate the labels and features. As well as give the features the __len__ and __getitem__ methods"
   ]
  },
  {
   "cell_type": "code",
   "execution_count": 4,
   "metadata": {},
   "outputs": [],
   "source": [
    "from torch.utils.data import TensorDataset\n",
    "\n",
    "train_dataset = TensorDataset(train_examples, train_labels)\n",
    "\n",
    "val_dataset = TensorDataset(val_examples, val_labels)"
   ]
  },
  {
   "cell_type": "markdown",
   "metadata": {},
   "source": [
    "### Wrap in Dataloader"
   ]
  },
  {
   "cell_type": "code",
   "execution_count": 5,
   "metadata": {},
   "outputs": [],
   "source": [
    "from torch.utils.data import DataLoader\n",
    "\n",
    "# create train and val dataloaders\n",
    "train_dataloader = DataLoader(train_dataset, batch_size=8, shuffle=True)\n",
    "val_dataloader = DataLoader(val_dataset, batch_size=8, shuffle=True)"
   ]
  },
  {
   "cell_type": "markdown",
   "metadata": {},
   "source": [
    "### Test Training Environment"
   ]
  },
  {
   "cell_type": "code",
   "execution_count": 6,
   "metadata": {},
   "outputs": [],
   "source": [
    "from train import Trainer\n",
    "import torch.nn as nn\n",
    "\n",
    "#set criterion and optimizer\n",
    "criterion = nn.BCELoss()\n",
    "optimizer = torch.optim.Adam(signature_model.parameters(), lr=0.001)\n",
    "\n",
    "#set epochs\n",
    "epochs = 10\n",
    "\n",
    "#set device\n",
    "device = torch.device('cuda' if torch.cuda.is_available() else 'cpu')\n",
    "\n",
    "#set early stopping patience\n",
    "patience = 5\n",
    "\n",
    "#set log frequency for model eval \n",
    "log_frequency = 1\n",
    "\n",
    "# create trainer instance\n",
    "trainer = Trainer( model = signature_model,\n",
    "                   criterion = criterion, \n",
    "                   optimizer = optimizer, \n",
    "                   train_loader = train_dataloader, \n",
    "                   val_loader = val_dataloader, \n",
    "                   epochs = epochs, \n",
    "                   device = device, \n",
    "                   early_stopping_patience = patience, \n",
    "                   log_freq = log_frequency)"
   ]
  },
  {
   "cell_type": "markdown",
   "metadata": {},
   "source": [
    "This is how you call the trainer class."
   ]
  },
  {
   "cell_type": "code",
   "execution_count": null,
   "metadata": {},
   "outputs": [],
   "source": [
    "trainer.train()"
   ]
  }
 ],
 "metadata": {
  "kernelspec": {
   "display_name": "Python 3",
   "language": "python",
   "name": "python3"
  },
  "language_info": {
   "codemirror_mode": {
    "name": "ipython",
    "version": 3
   },
   "file_extension": ".py",
   "mimetype": "text/x-python",
   "name": "python",
   "nbconvert_exporter": "python",
   "pygments_lexer": "ipython3",
   "version": "3.11.1"
  },
  "orig_nbformat": 4
 },
 "nbformat": 4,
 "nbformat_minor": 2
}
