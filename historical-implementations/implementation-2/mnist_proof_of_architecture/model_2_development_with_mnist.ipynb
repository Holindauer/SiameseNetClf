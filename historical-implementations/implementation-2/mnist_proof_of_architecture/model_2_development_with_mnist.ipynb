{
 "cells": [
  {
   "cell_type": "markdown",
   "metadata": {},
   "source": [
    "# Simaese Model Architecture Implementation Proof of Concept\n",
    "\n",
    "This notebook (and the accompanying files: train_mnist.py, model_2_mnist.py) are a responce to my initial attempts of training model 1. The model was severely underfitting the data with no convergence at all during training. I had many initial speculations as to why this was. I have just attempted to implement some of those, but quickly realized that there were too many considerations to test all at once. Feeling somewhat aimless as to how to proceed, I decided to implement the model architecure and data wrangling process on MNIST to gain insight into possible errors in my signature data implemplmentaion. \n",
    "\n",
    "\n",
    "I am also going to document changes I am making to the model architecture here.\n",
    "\n",
    "- One possible source of errors is that the data wrangling process I went through to get the signature data in the correct format for model 1's architecture was fairly complicated and opened up many possible error sources I was blind to. The reason for this is because I wanted the input for the model to be a single tensors, But I realize now that I can simplify the model, reduce the amount of human manipulatation and potential errors I introduce to the data, and simplify the training loop if I have the model take in the two image tensor batches seperately. \n",
    "\n",
    "- Additionally, I have modified the Train class to reflect the above modifcication to the model. For each epoch of the training loop, there are now two for loops that will pull out a batch from the dataloader. From the target vectors from the two batches pulled from the dataloader, a new target vector is created on the spot that stores binary classes of whether the two images along the same index belong to the same class as each other. \n",
    "\n",
    "- Another change I have made to the model architecture is that I have removed the greater than equal to function that was called on the cosine similarity tensor before model output. This is because I realized that using the threshold function torch.ge() makes backpropagation impossible because threshold functions are not differentiable. Instead I have switch this out for sigmoid. Predicitons can then be derived with torch.ge() outside of the model.\n",
    "\n",
    "- I've also added error handling to check if the embeddings interal to the model are not of the same shape due to the specific length of the dataset. \n",
    "\n",
    "\n",
    "I experimented with 3 versions of the training script in this notebook as well. Aside from the major changes listed above, which all of them share, the differences between the three stategies are found in the technique used to load in the training data. These differences are discussed within each of the idividual training scripts.\n",
    "\n",
    "#### Also, as a point of clarification. I realized that my plots of the learning curves for the first two training sessions say train loss/acc in their labels. This is incorrect, they should say validation loss/acc."
   ]
  },
  {
   "cell_type": "markdown",
   "metadata": {},
   "source": [
    "### Here I am going to load in the dataset "
   ]
  },
  {
   "cell_type": "code",
   "execution_count": 1,
   "metadata": {},
   "outputs": [],
   "source": [
    "import torch\n",
    "from torchvision import datasets, transforms\n",
    "\n",
    "# Define a transform to normalize the data\n",
    "transform = transforms.Compose([\n",
    "    transforms.ToTensor(),\n",
    "    transforms.Normalize((0.5,), (0.5,))\n",
    "])\n",
    "\n",
    "# Download and load the training data\n",
    "trainset = datasets.MNIST('~/.pytorch/MNIST_data/', download=True, train=True, transform=transform)\n",
    "trainloader = torch.utils.data.DataLoader(trainset, batch_size=256, shuffle=True)\n",
    "\n",
    "# Download and load the test data\n",
    "testset = datasets.MNIST('~/.pytorch/MNIST_data/', download=True, train=False, transform=transform)\n",
    "testloader = torch.utils.data.DataLoader(testset, batch_size=256, shuffle=False)\n"
   ]
  },
  {
   "cell_type": "markdown",
   "metadata": {},
   "source": [
    "### Load in Model\n",
    "\n",
    "This is the adjusted model for the mnist"
   ]
  },
  {
   "cell_type": "code",
   "execution_count": 2,
   "metadata": {},
   "outputs": [],
   "source": [
    "from model_2_mnist import SiameseNet \n",
    "\n",
    "model = SiameseNet()"
   ]
  },
  {
   "cell_type": "markdown",
   "metadata": {},
   "source": [
    "Below I am running a forward pass on a single example"
   ]
  },
  {
   "cell_type": "code",
   "execution_count": 3,
   "metadata": {},
   "outputs": [
    {
     "name": "stdout",
     "output_type": "stream",
     "text": [
      "\n",
      "Output shape: torch.Size([1])\n",
      "\n",
      "Output: tensor([0.6321], grad_fn=<SigmoidBackward0>)\n",
      "\n",
      "Prediction: tensor([True])\n"
     ]
    }
   ],
   "source": [
    "# get image from trainloader\n",
    "dataiter = iter(trainloader)\n",
    "images, labels = next(dataiter)\n",
    "\n",
    "\n",
    "# get two images from the batch\n",
    "image1 = images[0].unsqueeze(0) # unsqueeze to add a batch dimension\n",
    "image2 = images[1].unsqueeze(0) # unsqueeze to add a batch dimension\n",
    "\n",
    "# get the output of the model\n",
    "output = model(image1, image2)\n",
    "\n",
    "print(\"\\nOutput shape:\", output.shape)\n",
    "print(\"\\nOutput:\", output)\n",
    "\n",
    "# perform ge function with threhshold of 0.5 with the model output\n",
    "prediction = torch.ge(output, 0.5)\n",
    "\n",
    "print(\"\\nPrediction:\", prediction)"
   ]
  },
  {
   "cell_type": "code",
   "execution_count": 4,
   "metadata": {},
   "outputs": [
    {
     "name": "stdout",
     "output_type": "stream",
     "text": [
      "Layer 0 has 36 parameters\n",
      "Layer 1 has 4 parameters\n",
      "Layer 2 has 4 parameters\n",
      "Layer 3 has 4 parameters\n",
      "Layer 4 has 144 parameters\n",
      "Layer 5 has 4 parameters\n",
      "Layer 6 has 4 parameters\n",
      "Layer 7 has 4 parameters\n",
      "Layer 8 has 288 parameters\n",
      "Layer 9 has 8 parameters\n",
      "Layer 10 has 8 parameters\n",
      "Layer 11 has 8 parameters\n",
      "Layer 12 has 576 parameters\n",
      "Layer 13 has 8 parameters\n",
      "Layer 14 has 8 parameters\n",
      "Layer 15 has 8 parameters\n",
      "Layer 16 has 1152 parameters\n",
      "Layer 17 has 16 parameters\n",
      "Layer 18 has 16 parameters\n",
      "Layer 19 has 16 parameters\n",
      "Layer 20 has 2304 parameters\n",
      "Layer 21 has 16 parameters\n",
      "Layer 22 has 16 parameters\n",
      "Layer 23 has 16 parameters\n",
      "Layer 24 has 1440 parameters\n",
      "Layer 25 has 10 parameters\n",
      "\n",
      " Total number of trainable parameters: 6118\n"
     ]
    }
   ],
   "source": [
    "# Count the number of trainable parameters\n",
    "layer_params = [p.numel() for p in model.parameters() if p.requires_grad]\n",
    "\n",
    "# print params at each layer\n",
    "for i, p in enumerate(layer_params):\n",
    "    print(f\"Layer {i} has {p} parameters\")\n",
    "\n",
    "# sum parameters\n",
    "print(f\"\\n Total number of trainable parameters: {sum(layer_params)}\")"
   ]
  },
  {
   "cell_type": "markdown",
   "metadata": {},
   "source": [
    "## Load Training Environment\n",
    "\n",
    "#### Initial training script modification with nested loop train loading strat"
   ]
  },
  {
   "cell_type": "markdown",
   "metadata": {},
   "source": [
    "I will train the model with binary cross entropy and adam. "
   ]
  },
  {
   "cell_type": "code",
   "execution_count": 5,
   "metadata": {},
   "outputs": [
    {
     "name": "stdout",
     "output_type": "stream",
     "text": [
      "Device: cuda\n"
     ]
    }
   ],
   "source": [
    "from train_mnist import Trainer\n",
    "import torch.nn as nn\n",
    "\n",
    "#set criterion and optimizer\n",
    "criterion = nn.BCELoss()\n",
    "optimizer = torch.optim.Adam(model.parameters(), lr=0.0001)\n",
    "\n",
    "#set epochs\n",
    "epochs = 200\n",
    "\n",
    "#set device\n",
    "device = torch.device('cuda' if torch.cuda.is_available() else 'cpu')\n",
    "print(f\"Device: {device}\")\n",
    "\n",
    "#set early stopping patience\n",
    "patience = 20\n",
    "\n",
    "#set log frequency for model eval \n",
    "log_frequency = 1\n",
    "\n",
    "# create trainer instance\n",
    "trainer = Trainer( model = model,\n",
    "                   criterion = criterion, \n",
    "                   optimizer = optimizer, \n",
    "                   train_loader = trainloader, \n",
    "                   val_loader = testloader, \n",
    "                   epochs = epochs, \n",
    "                   device = device, \n",
    "                   early_stopping_patience = patience, \n",
    "                   log_freq = log_frequency, \n",
    "                   batch_size=256)"
   ]
  },
  {
   "cell_type": "code",
   "execution_count": 6,
   "metadata": {},
   "outputs": [
    {
     "name": "stdout",
     "output_type": "stream",
     "text": [
      "235\n",
      "40\n"
     ]
    }
   ],
   "source": [
    "print(len(trainloader))\n",
    "print(len(testloader))"
   ]
  },
  {
   "cell_type": "code",
   "execution_count": 7,
   "metadata": {},
   "outputs": [
    {
     "name": "stdout",
     "output_type": "stream",
     "text": [
      "starting training...\n",
      "\n",
      "\n",
      "Epoch 0: Train Loss: 0.70140 -- Train Accuracy 0.520 -- Val Loss: 0.32116 -- Val Accuracy: 0.283\n",
      "Epoch 1: Train Loss: 0.66774 -- Train Accuracy 0.585 -- Val Loss: 0.31418 -- Val Accuracy: 0.297\n",
      "Epoch 2: Train Loss: 0.65475 -- Train Accuracy 0.618 -- Val Loss: 0.30982 -- Val Accuracy: 0.309\n",
      "Epoch 3: Train Loss: 0.65231 -- Train Accuracy 0.622 -- Val Loss: 0.30690 -- Val Accuracy: 0.314\n",
      "Epoch 4: Train Loss: 0.64827 -- Train Accuracy 0.639 -- Val Loss: 0.30575 -- Val Accuracy: 0.319\n",
      "Epoch 5: Train Loss: 0.64531 -- Train Accuracy 0.646 -- Val Loss: 0.30519 -- Val Accuracy: 0.319\n",
      "Epoch 6: Train Loss: 0.64138 -- Train Accuracy 0.655 -- Val Loss: 0.30335 -- Val Accuracy: 0.328\n",
      "Epoch 7: Train Loss: 0.64065 -- Train Accuracy 0.657 -- Val Loss: 0.30259 -- Val Accuracy: 0.332\n",
      "Epoch 8: Train Loss: 0.63567 -- Train Accuracy 0.674 -- Val Loss: 0.30171 -- Val Accuracy: 0.334\n",
      "Epoch 9: Train Loss: 0.63443 -- Train Accuracy 0.673 -- Val Loss: 0.30131 -- Val Accuracy: 0.332\n",
      "Epoch 10: Train Loss: 0.63435 -- Train Accuracy 0.677 -- Val Loss: 0.30085 -- Val Accuracy: 0.338\n",
      "Epoch 11: Train Loss: 0.63598 -- Train Accuracy 0.670 -- Val Loss: 0.30050 -- Val Accuracy: 0.334\n",
      "Epoch 12: Train Loss: 0.63327 -- Train Accuracy 0.682 -- Val Loss: 0.30009 -- Val Accuracy: 0.334\n",
      "Epoch 13: Train Loss: 0.63177 -- Train Accuracy 0.680 -- Val Loss: 0.29917 -- Val Accuracy: 0.339\n",
      "Epoch 14: Train Loss: 0.63125 -- Train Accuracy 0.682 -- Val Loss: 0.29953 -- Val Accuracy: 0.339\n",
      "Epoch 15: Train Loss: 0.62973 -- Train Accuracy 0.684 -- Val Loss: 0.29901 -- Val Accuracy: 0.344\n",
      "Epoch 16: Train Loss: 0.62813 -- Train Accuracy 0.695 -- Val Loss: 0.29899 -- Val Accuracy: 0.341\n",
      "Epoch 17: Train Loss: 0.62792 -- Train Accuracy 0.694 -- Val Loss: 0.29853 -- Val Accuracy: 0.344\n",
      "Epoch 18: Train Loss: 0.62945 -- Train Accuracy 0.680 -- Val Loss: 0.29804 -- Val Accuracy: 0.340\n",
      "Epoch 19: Train Loss: 0.62900 -- Train Accuracy 0.690 -- Val Loss: 0.29815 -- Val Accuracy: 0.345\n",
      "Epoch 20: Train Loss: 0.62748 -- Train Accuracy 0.696 -- Val Loss: 0.29773 -- Val Accuracy: 0.346\n",
      "Epoch 21: Train Loss: 0.62611 -- Train Accuracy 0.691 -- Val Loss: 0.29755 -- Val Accuracy: 0.344\n",
      "Epoch 22: Train Loss: 0.62460 -- Train Accuracy 0.693 -- Val Loss: 0.29733 -- Val Accuracy: 0.344\n",
      "Epoch 23: Train Loss: 0.62482 -- Train Accuracy 0.695 -- Val Loss: 0.29735 -- Val Accuracy: 0.344\n",
      "Epoch 24: Train Loss: 0.62557 -- Train Accuracy 0.697 -- Val Loss: 0.29721 -- Val Accuracy: 0.345\n",
      "Epoch 25: Train Loss: 0.62364 -- Train Accuracy 0.702 -- Val Loss: 0.29674 -- Val Accuracy: 0.350\n",
      "Epoch 26: Train Loss: 0.62455 -- Train Accuracy 0.696 -- Val Loss: 0.29671 -- Val Accuracy: 0.343\n",
      "Epoch 27: Train Loss: 0.62500 -- Train Accuracy 0.704 -- Val Loss: 0.29700 -- Val Accuracy: 0.345\n",
      "Epoch 28: Train Loss: 0.62051 -- Train Accuracy 0.715 -- Val Loss: 0.29622 -- Val Accuracy: 0.351\n",
      "Epoch 29: Train Loss: 0.62296 -- Train Accuracy 0.712 -- Val Loss: 0.29670 -- Val Accuracy: 0.351\n",
      "Epoch 30: Train Loss: 0.62321 -- Train Accuracy 0.711 -- Val Loss: 0.29607 -- Val Accuracy: 0.352\n",
      "Epoch 31: Train Loss: 0.62078 -- Train Accuracy 0.722 -- Val Loss: 0.29595 -- Val Accuracy: 0.356\n",
      "Epoch 32: Train Loss: 0.62256 -- Train Accuracy 0.721 -- Val Loss: 0.29628 -- Val Accuracy: 0.354\n",
      "Epoch 33: Train Loss: 0.62304 -- Train Accuracy 0.717 -- Val Loss: 0.29602 -- Val Accuracy: 0.354\n",
      "Epoch 34: Train Loss: 0.62263 -- Train Accuracy 0.715 -- Val Loss: 0.29612 -- Val Accuracy: 0.354\n",
      "Epoch 35: Train Loss: 0.62029 -- Train Accuracy 0.729 -- Val Loss: 0.29618 -- Val Accuracy: 0.352\n",
      "Epoch 36: Train Loss: 0.62052 -- Train Accuracy 0.732 -- Val Loss: 0.29548 -- Val Accuracy: 0.357\n",
      "Epoch 37: Train Loss: 0.61964 -- Train Accuracy 0.733 -- Val Loss: 0.29553 -- Val Accuracy: 0.357\n",
      "Epoch 38: Train Loss: 0.62093 -- Train Accuracy 0.721 -- Val Loss: 0.29489 -- Val Accuracy: 0.355\n",
      "Epoch 39: Train Loss: 0.61986 -- Train Accuracy 0.728 -- Val Loss: 0.29486 -- Val Accuracy: 0.360\n",
      "Epoch 40: Train Loss: 0.61976 -- Train Accuracy 0.720 -- Val Loss: 0.29504 -- Val Accuracy: 0.354\n",
      "Epoch 41: Train Loss: 0.62122 -- Train Accuracy 0.719 -- Val Loss: 0.29463 -- Val Accuracy: 0.358\n",
      "Epoch 42: Train Loss: 0.61937 -- Train Accuracy 0.734 -- Val Loss: 0.29471 -- Val Accuracy: 0.359\n",
      "Epoch 43: Train Loss: 0.61668 -- Train Accuracy 0.750 -- Val Loss: 0.29509 -- Val Accuracy: 0.365\n",
      "Epoch 44: Train Loss: 0.61679 -- Train Accuracy 0.751 -- Val Loss: 0.29442 -- Val Accuracy: 0.365\n",
      "Epoch 45: Train Loss: 0.61793 -- Train Accuracy 0.747 -- Val Loss: 0.29382 -- Val Accuracy: 0.367\n",
      "Epoch 46: Train Loss: 0.61776 -- Train Accuracy 0.744 -- Val Loss: 0.29405 -- Val Accuracy: 0.367\n",
      "Epoch 47: Train Loss: 0.61770 -- Train Accuracy 0.744 -- Val Loss: 0.29367 -- Val Accuracy: 0.369\n",
      "Epoch 48: Train Loss: 0.61878 -- Train Accuracy 0.748 -- Val Loss: 0.29343 -- Val Accuracy: 0.372\n",
      "Epoch 49: Train Loss: 0.61654 -- Train Accuracy 0.757 -- Val Loss: 0.29425 -- Val Accuracy: 0.368\n",
      "Epoch 50: Train Loss: 0.61873 -- Train Accuracy 0.754 -- Val Loss: 0.29387 -- Val Accuracy: 0.371\n",
      "Epoch 51: Train Loss: 0.61738 -- Train Accuracy 0.755 -- Val Loss: 0.29386 -- Val Accuracy: 0.377\n",
      "Epoch 52: Train Loss: 0.61695 -- Train Accuracy 0.759 -- Val Loss: 0.29331 -- Val Accuracy: 0.375\n",
      "Epoch 53: Train Loss: 0.61903 -- Train Accuracy 0.759 -- Val Loss: 0.29371 -- Val Accuracy: 0.379\n",
      "Epoch 54: Train Loss: 0.61533 -- Train Accuracy 0.774 -- Val Loss: 0.29317 -- Val Accuracy: 0.379\n",
      "Epoch 55: Train Loss: 0.61583 -- Train Accuracy 0.769 -- Val Loss: 0.29330 -- Val Accuracy: 0.381\n",
      "Epoch 56: Train Loss: 0.61561 -- Train Accuracy 0.773 -- Val Loss: 0.29313 -- Val Accuracy: 0.383\n",
      "Epoch 57: Train Loss: 0.61502 -- Train Accuracy 0.778 -- Val Loss: 0.29299 -- Val Accuracy: 0.387\n",
      "Epoch 58: Train Loss: 0.61636 -- Train Accuracy 0.782 -- Val Loss: 0.29312 -- Val Accuracy: 0.385\n",
      "Epoch 59: Train Loss: 0.61645 -- Train Accuracy 0.782 -- Val Loss: 0.29348 -- Val Accuracy: 0.380\n",
      "Epoch 60: Train Loss: 0.61518 -- Train Accuracy 0.782 -- Val Loss: 0.29308 -- Val Accuracy: 0.386\n",
      "Epoch 61: Train Loss: 0.61572 -- Train Accuracy 0.779 -- Val Loss: 0.29353 -- Val Accuracy: 0.382\n",
      "Epoch 62: Train Loss: 0.61556 -- Train Accuracy 0.777 -- Val Loss: 0.29315 -- Val Accuracy: 0.384\n",
      "Epoch 63: Train Loss: 0.61503 -- Train Accuracy 0.793 -- Val Loss: 0.29282 -- Val Accuracy: 0.393\n",
      "Epoch 64: Train Loss: 0.61518 -- Train Accuracy 0.785 -- Val Loss: 0.29264 -- Val Accuracy: 0.391\n",
      "Epoch 65: Train Loss: 0.61362 -- Train Accuracy 0.792 -- Val Loss: 0.29345 -- Val Accuracy: 0.384\n",
      "Epoch 66: Train Loss: 0.61414 -- Train Accuracy 0.791 -- Val Loss: 0.29298 -- Val Accuracy: 0.389\n",
      "Epoch 67: Train Loss: 0.61340 -- Train Accuracy 0.807 -- Val Loss: 0.29332 -- Val Accuracy: 0.394\n",
      "Epoch 68: Train Loss: 0.61391 -- Train Accuracy 0.806 -- Val Loss: 0.29252 -- Val Accuracy: 0.397\n",
      "Epoch 69: Train Loss: 0.61402 -- Train Accuracy 0.799 -- Val Loss: 0.29275 -- Val Accuracy: 0.391\n",
      "Epoch 70: Train Loss: 0.61363 -- Train Accuracy 0.804 -- Val Loss: 0.29251 -- Val Accuracy: 0.391\n",
      "Epoch 71: Train Loss: 0.61362 -- Train Accuracy 0.811 -- Val Loss: 0.29248 -- Val Accuracy: 0.398\n",
      "Epoch 72: Train Loss: 0.61280 -- Train Accuracy 0.814 -- Val Loss: 0.29311 -- Val Accuracy: 0.394\n",
      "Epoch 73: Train Loss: 0.61381 -- Train Accuracy 0.810 -- Val Loss: 0.29220 -- Val Accuracy: 0.398\n",
      "Epoch 74: Train Loss: 0.61458 -- Train Accuracy 0.809 -- Val Loss: 0.29258 -- Val Accuracy: 0.396\n",
      "Epoch 75: Train Loss: 0.61352 -- Train Accuracy 0.807 -- Val Loss: 0.29240 -- Val Accuracy: 0.396\n",
      "Epoch 76: Train Loss: 0.61386 -- Train Accuracy 0.808 -- Val Loss: 0.29224 -- Val Accuracy: 0.401\n",
      "Epoch 77: Train Loss: 0.61399 -- Train Accuracy 0.802 -- Val Loss: 0.29258 -- Val Accuracy: 0.399\n",
      "Epoch 78: Train Loss: 0.61186 -- Train Accuracy 0.812 -- Val Loss: 0.29193 -- Val Accuracy: 0.402\n",
      "Epoch 79: Train Loss: 0.61421 -- Train Accuracy 0.819 -- Val Loss: 0.29203 -- Val Accuracy: 0.406\n",
      "Epoch 80: Train Loss: 0.61387 -- Train Accuracy 0.821 -- Val Loss: 0.29205 -- Val Accuracy: 0.405\n",
      "Epoch 81: Train Loss: 0.61392 -- Train Accuracy 0.816 -- Val Loss: 0.29207 -- Val Accuracy: 0.403\n",
      "Epoch 82: Train Loss: 0.61321 -- Train Accuracy 0.813 -- Val Loss: 0.29191 -- Val Accuracy: 0.402\n",
      "Epoch 83: Train Loss: 0.61369 -- Train Accuracy 0.817 -- Val Loss: 0.29199 -- Val Accuracy: 0.403\n"
     ]
    },
    {
     "name": "stdout",
     "output_type": "stream",
     "text": [
      "Epoch 84: Train Loss: 0.61296 -- Train Accuracy 0.825 -- Val Loss: 0.29205 -- Val Accuracy: 0.408\n",
      "Epoch 85: Train Loss: 0.61138 -- Train Accuracy 0.831 -- Val Loss: 0.29217 -- Val Accuracy: 0.404\n",
      "Epoch 86: Train Loss: 0.61318 -- Train Accuracy 0.824 -- Val Loss: 0.29159 -- Val Accuracy: 0.408\n",
      "Epoch 87: Train Loss: 0.61125 -- Train Accuracy 0.830 -- Val Loss: 0.29224 -- Val Accuracy: 0.409\n",
      "Epoch 88: Train Loss: 0.61157 -- Train Accuracy 0.827 -- Val Loss: 0.29202 -- Val Accuracy: 0.410\n",
      "Epoch 89: Train Loss: 0.61264 -- Train Accuracy 0.831 -- Val Loss: 0.29152 -- Val Accuracy: 0.410\n",
      "Epoch 90: Train Loss: 0.61218 -- Train Accuracy 0.827 -- Val Loss: 0.29162 -- Val Accuracy: 0.414\n",
      "Epoch 91: Train Loss: 0.61252 -- Train Accuracy 0.836 -- Val Loss: 0.29185 -- Val Accuracy: 0.409\n",
      "Epoch 92: Train Loss: 0.61102 -- Train Accuracy 0.845 -- Val Loss: 0.29169 -- Val Accuracy: 0.414\n",
      "Epoch 93: Train Loss: 0.61255 -- Train Accuracy 0.841 -- Val Loss: 0.29161 -- Val Accuracy: 0.415\n",
      "Epoch 94: Train Loss: 0.61170 -- Train Accuracy 0.841 -- Val Loss: 0.29152 -- Val Accuracy: 0.416\n",
      "Epoch 95: Train Loss: 0.61285 -- Train Accuracy 0.834 -- Val Loss: 0.29165 -- Val Accuracy: 0.414\n",
      "Epoch 96: Train Loss: 0.61175 -- Train Accuracy 0.848 -- Val Loss: 0.29165 -- Val Accuracy: 0.413\n",
      "Epoch 97: Train Loss: 0.61242 -- Train Accuracy 0.836 -- Val Loss: 0.29176 -- Val Accuracy: 0.414\n",
      "Epoch 98: Train Loss: 0.61111 -- Train Accuracy 0.854 -- Val Loss: 0.29152 -- Val Accuracy: 0.416\n",
      "Epoch 99: Train Loss: 0.61123 -- Train Accuracy 0.847 -- Val Loss: 0.29182 -- Val Accuracy: 0.415\n",
      "Epoch 100: Train Loss: 0.61197 -- Train Accuracy 0.847 -- Val Loss: 0.29132 -- Val Accuracy: 0.416\n",
      "Epoch 101: Train Loss: 0.61172 -- Train Accuracy 0.850 -- Val Loss: 0.29137 -- Val Accuracy: 0.417\n",
      "Epoch 102: Train Loss: 0.60979 -- Train Accuracy 0.857 -- Val Loss: 0.29141 -- Val Accuracy: 0.418\n",
      "Epoch 103: Train Loss: 0.61272 -- Train Accuracy 0.851 -- Val Loss: 0.29166 -- Val Accuracy: 0.421\n",
      "Epoch 104: Train Loss: 0.61192 -- Train Accuracy 0.853 -- Val Loss: 0.29128 -- Val Accuracy: 0.419\n",
      "Epoch 105: Train Loss: 0.61131 -- Train Accuracy 0.852 -- Val Loss: 0.29105 -- Val Accuracy: 0.424\n",
      "Epoch 106: Train Loss: 0.61040 -- Train Accuracy 0.857 -- Val Loss: 0.29110 -- Val Accuracy: 0.422\n",
      "Epoch 107: Train Loss: 0.61129 -- Train Accuracy 0.855 -- Val Loss: 0.29160 -- Val Accuracy: 0.420\n",
      "Epoch 108: Train Loss: 0.61070 -- Train Accuracy 0.857 -- Val Loss: 0.29115 -- Val Accuracy: 0.424\n",
      "Epoch 109: Train Loss: 0.60954 -- Train Accuracy 0.859 -- Val Loss: 0.29138 -- Val Accuracy: 0.420\n",
      "Epoch 110: Train Loss: 0.61112 -- Train Accuracy 0.856 -- Val Loss: 0.29163 -- Val Accuracy: 0.423\n",
      "Epoch 111: Train Loss: 0.61096 -- Train Accuracy 0.862 -- Val Loss: 0.29098 -- Val Accuracy: 0.422\n",
      "Epoch 112: Train Loss: 0.61030 -- Train Accuracy 0.863 -- Val Loss: 0.29084 -- Val Accuracy: 0.425\n",
      "Epoch 113: Train Loss: 0.61149 -- Train Accuracy 0.848 -- Val Loss: 0.29073 -- Val Accuracy: 0.424\n",
      "Epoch 114: Train Loss: 0.61169 -- Train Accuracy 0.857 -- Val Loss: 0.29080 -- Val Accuracy: 0.427\n",
      "Epoch 115: Train Loss: 0.61036 -- Train Accuracy 0.864 -- Val Loss: 0.29128 -- Val Accuracy: 0.426\n",
      "Epoch 116: Train Loss: 0.61091 -- Train Accuracy 0.860 -- Val Loss: 0.29090 -- Val Accuracy: 0.430\n",
      "Epoch 117: Train Loss: 0.61133 -- Train Accuracy 0.860 -- Val Loss: 0.29081 -- Val Accuracy: 0.426\n",
      "Epoch 118: Train Loss: 0.61172 -- Train Accuracy 0.862 -- Val Loss: 0.29092 -- Val Accuracy: 0.423\n",
      "Epoch 119: Train Loss: 0.61039 -- Train Accuracy 0.862 -- Val Loss: 0.29083 -- Val Accuracy: 0.423\n",
      "Epoch 120: Train Loss: 0.61268 -- Train Accuracy 0.860 -- Val Loss: 0.29075 -- Val Accuracy: 0.427\n",
      "Epoch 121: Train Loss: 0.60991 -- Train Accuracy 0.868 -- Val Loss: 0.29087 -- Val Accuracy: 0.426\n",
      "Epoch 122: Train Loss: 0.61063 -- Train Accuracy 0.875 -- Val Loss: 0.29122 -- Val Accuracy: 0.424\n",
      "Epoch 123: Train Loss: 0.61110 -- Train Accuracy 0.863 -- Val Loss: 0.29074 -- Val Accuracy: 0.427\n",
      "Epoch 124: Train Loss: 0.61121 -- Train Accuracy 0.869 -- Val Loss: 0.29080 -- Val Accuracy: 0.426\n",
      "Epoch 125: Train Loss: 0.61221 -- Train Accuracy 0.858 -- Val Loss: 0.29108 -- Val Accuracy: 0.422\n",
      "Epoch 126: Train Loss: 0.61086 -- Train Accuracy 0.870 -- Val Loss: 0.29100 -- Val Accuracy: 0.427\n",
      "Epoch 127: Train Loss: 0.61039 -- Train Accuracy 0.872 -- Val Loss: 0.29083 -- Val Accuracy: 0.431\n",
      "Epoch 128: Train Loss: 0.61116 -- Train Accuracy 0.871 -- Val Loss: 0.29174 -- Val Accuracy: 0.424\n",
      "Epoch 129: Train Loss: 0.60978 -- Train Accuracy 0.872 -- Val Loss: 0.29132 -- Val Accuracy: 0.428\n",
      "Epoch 130: Train Loss: 0.61094 -- Train Accuracy 0.870 -- Val Loss: 0.29113 -- Val Accuracy: 0.430\n",
      "Epoch 131: Train Loss: 0.61135 -- Train Accuracy 0.866 -- Val Loss: 0.29113 -- Val Accuracy: 0.429\n",
      "Epoch 132: Train Loss: 0.61017 -- Train Accuracy 0.873 -- Val Loss: 0.29105 -- Val Accuracy: 0.432\n",
      "Epoch 133: Train Loss: 0.60986 -- Train Accuracy 0.876 -- Val Loss: 0.29117 -- Val Accuracy: 0.430\n",
      "Epoch 134: Train Loss: 0.61021 -- Train Accuracy 0.863 -- Val Loss: 0.29060 -- Val Accuracy: 0.428\n",
      "Epoch 135: Train Loss: 0.61144 -- Train Accuracy 0.867 -- Val Loss: 0.29088 -- Val Accuracy: 0.428\n",
      "Epoch 136: Train Loss: 0.61053 -- Train Accuracy 0.870 -- Val Loss: 0.29081 -- Val Accuracy: 0.428\n",
      "Epoch 137: Train Loss: 0.60944 -- Train Accuracy 0.874 -- Val Loss: 0.29097 -- Val Accuracy: 0.432\n",
      "Epoch 138: Train Loss: 0.61035 -- Train Accuracy 0.875 -- Val Loss: 0.29096 -- Val Accuracy: 0.431\n",
      "Epoch 139: Train Loss: 0.61004 -- Train Accuracy 0.876 -- Val Loss: 0.29122 -- Val Accuracy: 0.432\n",
      "Epoch 140: Train Loss: 0.61039 -- Train Accuracy 0.878 -- Val Loss: 0.29097 -- Val Accuracy: 0.428\n",
      "Epoch 141: Train Loss: 0.60982 -- Train Accuracy 0.873 -- Val Loss: 0.29094 -- Val Accuracy: 0.430\n",
      "Epoch 142: Train Loss: 0.61038 -- Train Accuracy 0.875 -- Val Loss: 0.29106 -- Val Accuracy: 0.431\n",
      "Epoch 143: Train Loss: 0.60999 -- Train Accuracy 0.876 -- Val Loss: 0.29077 -- Val Accuracy: 0.430\n",
      "Epoch 144: Train Loss: 0.60996 -- Train Accuracy 0.870 -- Val Loss: 0.29062 -- Val Accuracy: 0.428\n",
      "Epoch 145: Train Loss: 0.60866 -- Train Accuracy 0.871 -- Val Loss: 0.29087 -- Val Accuracy: 0.429\n",
      "Epoch 146: Train Loss: 0.60918 -- Train Accuracy 0.878 -- Val Loss: 0.29126 -- Val Accuracy: 0.430\n",
      "Epoch 147: Train Loss: 0.60934 -- Train Accuracy 0.882 -- Val Loss: 0.29092 -- Val Accuracy: 0.432\n",
      "Epoch 148: Train Loss: 0.61013 -- Train Accuracy 0.876 -- Val Loss: 0.29072 -- Val Accuracy: 0.426\n",
      "Epoch 149: Train Loss: 0.60923 -- Train Accuracy 0.878 -- Val Loss: 0.29065 -- Val Accuracy: 0.434\n",
      "Epoch 150: Train Loss: 0.60928 -- Train Accuracy 0.886 -- Val Loss: 0.29049 -- Val Accuracy: 0.435\n",
      "Epoch 151: Train Loss: 0.61020 -- Train Accuracy 0.881 -- Val Loss: 0.29110 -- Val Accuracy: 0.430\n",
      "Epoch 152: Train Loss: 0.60890 -- Train Accuracy 0.882 -- Val Loss: 0.29104 -- Val Accuracy: 0.431\n",
      "Epoch 153: Train Loss: 0.60953 -- Train Accuracy 0.892 -- Val Loss: 0.29069 -- Val Accuracy: 0.437\n",
      "Epoch 154: Train Loss: 0.60879 -- Train Accuracy 0.883 -- Val Loss: 0.29092 -- Val Accuracy: 0.433\n",
      "Epoch 155: Train Loss: 0.60982 -- Train Accuracy 0.887 -- Val Loss: 0.29132 -- Val Accuracy: 0.431\n",
      "Epoch 156: Train Loss: 0.61053 -- Train Accuracy 0.885 -- Val Loss: 0.29076 -- Val Accuracy: 0.438\n",
      "Epoch 157: Train Loss: 0.61106 -- Train Accuracy 0.880 -- Val Loss: 0.29091 -- Val Accuracy: 0.430\n",
      "Epoch 158: Train Loss: 0.60853 -- Train Accuracy 0.886 -- Val Loss: 0.29067 -- Val Accuracy: 0.430\n",
      "Epoch 159: Train Loss: 0.60960 -- Train Accuracy 0.889 -- Val Loss: 0.29043 -- Val Accuracy: 0.440\n",
      "Epoch 160: Train Loss: 0.60877 -- Train Accuracy 0.886 -- Val Loss: 0.29123 -- Val Accuracy: 0.434\n",
      "Epoch 161: Train Loss: 0.60960 -- Train Accuracy 0.888 -- Val Loss: 0.29069 -- Val Accuracy: 0.430\n",
      "Epoch 162: Train Loss: 0.60869 -- Train Accuracy 0.896 -- Val Loss: 0.29101 -- Val Accuracy: 0.434\n",
      "Epoch 163: Train Loss: 0.61027 -- Train Accuracy 0.883 -- Val Loss: 0.29084 -- Val Accuracy: 0.433\n",
      "Epoch 164: Train Loss: 0.60959 -- Train Accuracy 0.879 -- Val Loss: 0.29059 -- Val Accuracy: 0.434\n",
      "Epoch 165: Train Loss: 0.60893 -- Train Accuracy 0.887 -- Val Loss: 0.29087 -- Val Accuracy: 0.432\n",
      "Epoch 166: Train Loss: 0.60925 -- Train Accuracy 0.889 -- Val Loss: 0.29093 -- Val Accuracy: 0.434\n"
     ]
    },
    {
     "name": "stdout",
     "output_type": "stream",
     "text": [
      "Epoch 167: Train Loss: 0.60982 -- Train Accuracy 0.894 -- Val Loss: 0.29063 -- Val Accuracy: 0.437\n",
      "Epoch 168: Train Loss: 0.60892 -- Train Accuracy 0.882 -- Val Loss: 0.29117 -- Val Accuracy: 0.429\n",
      "Epoch 169: Train Loss: 0.60956 -- Train Accuracy 0.882 -- Val Loss: 0.29082 -- Val Accuracy: 0.434\n",
      "Epoch 170: Train Loss: 0.60928 -- Train Accuracy 0.890 -- Val Loss: 0.29076 -- Val Accuracy: 0.434\n",
      "Epoch 171: Train Loss: 0.61024 -- Train Accuracy 0.894 -- Val Loss: 0.29078 -- Val Accuracy: 0.437\n",
      "Epoch 172: Train Loss: 0.60976 -- Train Accuracy 0.888 -- Val Loss: 0.29109 -- Val Accuracy: 0.436\n",
      "Epoch 173: Train Loss: 0.60851 -- Train Accuracy 0.896 -- Val Loss: 0.29102 -- Val Accuracy: 0.432\n",
      "Epoch 174: Train Loss: 0.60837 -- Train Accuracy 0.896 -- Val Loss: 0.29078 -- Val Accuracy: 0.437\n",
      "Epoch 175: Train Loss: 0.60887 -- Train Accuracy 0.900 -- Val Loss: 0.29082 -- Val Accuracy: 0.441\n",
      "Epoch 176: Train Loss: 0.61013 -- Train Accuracy 0.884 -- Val Loss: 0.29085 -- Val Accuracy: 0.438\n",
      "Epoch 177: Train Loss: 0.61023 -- Train Accuracy 0.893 -- Val Loss: 0.29068 -- Val Accuracy: 0.437\n",
      "Epoch 178: Train Loss: 0.60997 -- Train Accuracy 0.891 -- Val Loss: 0.29070 -- Val Accuracy: 0.441\n",
      "Epoch 179: Train Loss: 0.60905 -- Train Accuracy 0.894 -- Val Loss: 0.29039 -- Val Accuracy: 0.441\n",
      "Epoch 180: Train Loss: 0.60986 -- Train Accuracy 0.887 -- Val Loss: 0.29063 -- Val Accuracy: 0.438\n",
      "Epoch 181: Train Loss: 0.60915 -- Train Accuracy 0.895 -- Val Loss: 0.29073 -- Val Accuracy: 0.436\n",
      "Epoch 182: Train Loss: 0.60919 -- Train Accuracy 0.902 -- Val Loss: 0.29044 -- Val Accuracy: 0.444\n",
      "Epoch 183: Train Loss: 0.60786 -- Train Accuracy 0.891 -- Val Loss: 0.29077 -- Val Accuracy: 0.433\n",
      "Epoch 184: Train Loss: 0.60914 -- Train Accuracy 0.890 -- Val Loss: 0.29072 -- Val Accuracy: 0.434\n",
      "Epoch 185: Train Loss: 0.60898 -- Train Accuracy 0.897 -- Val Loss: 0.29095 -- Val Accuracy: 0.440\n",
      "Epoch 186: Train Loss: 0.60929 -- Train Accuracy 0.899 -- Val Loss: 0.29076 -- Val Accuracy: 0.439\n",
      "Epoch 187: Train Loss: 0.60959 -- Train Accuracy 0.892 -- Val Loss: 0.29097 -- Val Accuracy: 0.438\n",
      "Epoch 188: Train Loss: 0.60820 -- Train Accuracy 0.901 -- Val Loss: 0.29062 -- Val Accuracy: 0.437\n",
      "Epoch 189: Train Loss: 0.60828 -- Train Accuracy 0.896 -- Val Loss: 0.29052 -- Val Accuracy: 0.445\n",
      "Epoch 190: Train Loss: 0.60879 -- Train Accuracy 0.901 -- Val Loss: 0.29061 -- Val Accuracy: 0.442\n",
      "Epoch 191: Train Loss: 0.60881 -- Train Accuracy 0.905 -- Val Loss: 0.29074 -- Val Accuracy: 0.443\n",
      "Epoch 192: Train Loss: 0.60883 -- Train Accuracy 0.903 -- Val Loss: 0.29033 -- Val Accuracy: 0.441\n",
      "Epoch 193: Train Loss: 0.60897 -- Train Accuracy 0.892 -- Val Loss: 0.29056 -- Val Accuracy: 0.438\n",
      "Epoch 194: Train Loss: 0.60862 -- Train Accuracy 0.897 -- Val Loss: 0.29056 -- Val Accuracy: 0.441\n",
      "Epoch 195: Train Loss: 0.60895 -- Train Accuracy 0.898 -- Val Loss: 0.29049 -- Val Accuracy: 0.441\n",
      "Epoch 196: Train Loss: 0.60857 -- Train Accuracy 0.904 -- Val Loss: 0.29057 -- Val Accuracy: 0.444\n",
      "Epoch 197: Train Loss: 0.60922 -- Train Accuracy 0.902 -- Val Loss: 0.29044 -- Val Accuracy: 0.446\n",
      "Epoch 198: Train Loss: 0.60843 -- Train Accuracy 0.905 -- Val Loss: 0.29052 -- Val Accuracy: 0.444\n",
      "Epoch 199: Train Loss: 0.60772 -- Train Accuracy 0.911 -- Val Loss: 0.29094 -- Val Accuracy: 0.443\n",
      "Epoch 200: Train Loss: 0.60848 -- Train Accuracy 0.907 -- Val Loss: 0.29058 -- Val Accuracy: 0.442\n",
      "\n",
      "Training time: 2642.8780450820923\n"
     ]
    }
   ],
   "source": [
    "import time\n",
    "\n",
    "print(\"starting training...\\n\\n\")\n",
    "\n",
    "start = time.time()\n",
    "\n",
    "best_model, historical_loss, historical_acc = trainer.train()    \n",
    "\n",
    "end = time.time()\n",
    "\n",
    "print(f\"\\nTraining time: {end - start}\")"
   ]
  },
  {
   "cell_type": "code",
   "execution_count": 8,
   "metadata": {},
   "outputs": [
    {
     "data": {
      "text/plain": [
       "<matplotlib.legend.Legend at 0x7fa4e7bd3970>"
      ]
     },
     "execution_count": 8,
     "metadata": {},
     "output_type": "execute_result"
    },
    {
     "data": {
      "image/png": "[encoded data removed]",
      "text/plain": [
       "<Figure size 640x480 with 1 Axes>"
      ]
     },
     "metadata": {},
     "output_type": "display_data"
    }
   ],
   "source": [
    "import matplotlib.pyplot as plt\n",
    "\n",
    "#plot python lists historical_loss and historical_acc\n",
    "plt.plot(historical_loss, label='Training loss')\n",
    "plt.legend(frameon=False)\n"
   ]
  },
  {
   "cell_type": "code",
   "execution_count": 11,
   "metadata": {},
   "outputs": [],
   "source": [
    "# Define a filepath to save the model\n",
    "filepath = 'siamese_network_1_training.pth'\n",
    "\n",
    "# Save the model’s state_dict\n",
    "torch.save(best_model.state_dict(), filepath)"
   ]
  },
  {
   "cell_type": "markdown",
   "metadata": {},
   "source": [
    "### Alterantive Dataloading Training Script Training\n",
    "Below I am running training again using an adjusted training script from the one above that uses a slightly different strategy to load in batches. See train_mnist_alterante_dataloading.py for the explanation"
   ]
  },
  {
   "cell_type": "code",
   "execution_count": 3,
   "metadata": {},
   "outputs": [
    {
     "name": "stdout",
     "output_type": "stream",
     "text": [
      "Device: cuda\n"
     ]
    }
   ],
   "source": [
    "from train_mnist_alternate_dataloading import Trainer\n",
    "import torch.nn as nn\n",
    "\n",
    "#set criterion and optimizer\n",
    "criterion = nn.BCELoss()\n",
    "optimizer = torch.optim.Adam(model.parameters(), lr=0.001)\n",
    "\n",
    "#set epochs\n",
    "epochs = 1000\n",
    "\n",
    "#set device\n",
    "device = torch.device('cuda' if torch.cuda.is_available() else 'cpu')\n",
    "print(f\"Device: {device}\")\n",
    "\n",
    "#set early stopping patience\n",
    "patience = 20\n",
    "\n",
    "#set log frequency for model eval \n",
    "log_frequency = 1\n",
    "\n",
    "# create trainer instance\n",
    "trainer = Trainer( model = model,\n",
    "                   criterion = criterion, \n",
    "                   optimizer = optimizer, \n",
    "                   train_loader = trainloader, \n",
    "                   val_loader = testloader, \n",
    "                   epochs = epochs, \n",
    "                   device = device, \n",
    "                   early_stopping_patience = patience, \n",
    "                   log_freq = log_frequency, \n",
    "                   batch_size=256)"
   ]
  },
  {
   "cell_type": "code",
   "execution_count": 4,
   "metadata": {},
   "outputs": [
    {
     "name": "stdout",
     "output_type": "stream",
     "text": [
      "starting training...\n",
      "\n",
      "\n",
      "Epoch 0: Train Loss: 0.34103 -- Train Accuracy 0.277 -- Val Loss: 0.31235 -- Val Accuracy: 0.296\n",
      "Epoch 1: Train Loss: 0.32553 -- Train Accuracy 0.313 -- Val Loss: 0.30628 -- Val Accuracy: 0.317\n",
      "Epoch 2: Train Loss: 0.32036 -- Train Accuracy 0.328 -- Val Loss: 0.30352 -- Val Accuracy: 0.324\n",
      "Epoch 3: Train Loss: 0.31867 -- Train Accuracy 0.335 -- Val Loss: 0.30066 -- Val Accuracy: 0.337\n",
      "Epoch 4: Train Loss: 0.31647 -- Train Accuracy 0.346 -- Val Loss: 0.29886 -- Val Accuracy: 0.350\n",
      "Epoch 5: Train Loss: 0.31572 -- Train Accuracy 0.354 -- Val Loss: 0.29845 -- Val Accuracy: 0.352\n",
      "Epoch 6: Train Loss: 0.31432 -- Train Accuracy 0.357 -- Val Loss: 0.29767 -- Val Accuracy: 0.354\n",
      "Epoch 7: Train Loss: 0.31406 -- Train Accuracy 0.362 -- Val Loss: 0.29761 -- Val Accuracy: 0.366\n",
      "Epoch 8: Train Loss: 0.31366 -- Train Accuracy 0.364 -- Val Loss: 0.29685 -- Val Accuracy: 0.359\n",
      "Epoch 9: Train Loss: 0.31402 -- Train Accuracy 0.363 -- Val Loss: 0.29607 -- Val Accuracy: 0.363\n",
      "Epoch 10: Train Loss: 0.31212 -- Train Accuracy 0.368 -- Val Loss: 0.29549 -- Val Accuracy: 0.360\n",
      "Epoch 11: Train Loss: 0.31212 -- Train Accuracy 0.367 -- Val Loss: 0.29515 -- Val Accuracy: 0.363\n",
      "Epoch 12: Train Loss: 0.31142 -- Train Accuracy 0.369 -- Val Loss: 0.29530 -- Val Accuracy: 0.358\n",
      "Epoch 13: Train Loss: 0.31088 -- Train Accuracy 0.369 -- Val Loss: 0.29595 -- Val Accuracy: 0.361\n",
      "Epoch 14: Train Loss: 0.31164 -- Train Accuracy 0.365 -- Val Loss: 0.29454 -- Val Accuracy: 0.357\n",
      "Epoch 15: Train Loss: 0.31077 -- Train Accuracy 0.365 -- Val Loss: 0.29485 -- Val Accuracy: 0.361\n",
      "Epoch 16: Train Loss: 0.31093 -- Train Accuracy 0.366 -- Val Loss: 0.29371 -- Val Accuracy: 0.364\n",
      "Epoch 17: Train Loss: 0.31009 -- Train Accuracy 0.368 -- Val Loss: 0.29406 -- Val Accuracy: 0.361\n",
      "Epoch 18: Train Loss: 0.30959 -- Train Accuracy 0.368 -- Val Loss: 0.29375 -- Val Accuracy: 0.364\n",
      "Epoch 19: Train Loss: 0.30995 -- Train Accuracy 0.369 -- Val Loss: 0.29385 -- Val Accuracy: 0.366\n",
      "Epoch 20: Train Loss: 0.30963 -- Train Accuracy 0.367 -- Val Loss: 0.29340 -- Val Accuracy: 0.363\n",
      "Epoch 21: Train Loss: 0.31021 -- Train Accuracy 0.373 -- Val Loss: 0.29343 -- Val Accuracy: 0.364\n",
      "Epoch 22: Train Loss: 0.30991 -- Train Accuracy 0.370 -- Val Loss: 0.29377 -- Val Accuracy: 0.360\n",
      "Epoch 23: Train Loss: 0.30913 -- Train Accuracy 0.372 -- Val Loss: 0.29377 -- Val Accuracy: 0.358\n",
      "Epoch 24: Train Loss: 0.30939 -- Train Accuracy 0.369 -- Val Loss: 0.29290 -- Val Accuracy: 0.369\n",
      "Epoch 25: Train Loss: 0.30977 -- Train Accuracy 0.371 -- Val Loss: 0.29344 -- Val Accuracy: 0.372\n",
      "Epoch 26: Train Loss: 0.30930 -- Train Accuracy 0.372 -- Val Loss: 0.29290 -- Val Accuracy: 0.370\n",
      "Epoch 27: Train Loss: 0.30962 -- Train Accuracy 0.371 -- Val Loss: 0.29297 -- Val Accuracy: 0.373\n",
      "Epoch 28: Train Loss: 0.30849 -- Train Accuracy 0.375 -- Val Loss: 0.29291 -- Val Accuracy: 0.366\n",
      "Epoch 29: Train Loss: 0.30886 -- Train Accuracy 0.370 -- Val Loss: 0.29316 -- Val Accuracy: 0.367\n",
      "Epoch 30: Train Loss: 0.30843 -- Train Accuracy 0.375 -- Val Loss: 0.29266 -- Val Accuracy: 0.372\n",
      "Epoch 31: Train Loss: 0.30883 -- Train Accuracy 0.374 -- Val Loss: 0.29294 -- Val Accuracy: 0.367\n",
      "Epoch 32: Train Loss: 0.30859 -- Train Accuracy 0.374 -- Val Loss: 0.29301 -- Val Accuracy: 0.371\n",
      "Epoch 33: Train Loss: 0.30971 -- Train Accuracy 0.370 -- Val Loss: 0.29382 -- Val Accuracy: 0.361\n",
      "Epoch 34: Train Loss: 0.30879 -- Train Accuracy 0.375 -- Val Loss: 0.29286 -- Val Accuracy: 0.370\n",
      "Epoch 35: Train Loss: 0.30850 -- Train Accuracy 0.376 -- Val Loss: 0.29261 -- Val Accuracy: 0.370\n",
      "Epoch 36: Train Loss: 0.30874 -- Train Accuracy 0.376 -- Val Loss: 0.29301 -- Val Accuracy: 0.379\n",
      "Epoch 37: Train Loss: 0.30874 -- Train Accuracy 0.375 -- Val Loss: 0.29336 -- Val Accuracy: 0.363\n",
      "Epoch 38: Train Loss: 0.30888 -- Train Accuracy 0.373 -- Val Loss: 0.29285 -- Val Accuracy: 0.367\n",
      "Epoch 39: Train Loss: 0.30863 -- Train Accuracy 0.376 -- Val Loss: 0.29302 -- Val Accuracy: 0.366\n",
      "Epoch 40: Train Loss: 0.30830 -- Train Accuracy 0.374 -- Val Loss: 0.29251 -- Val Accuracy: 0.370\n",
      "Epoch 41: Train Loss: 0.30813 -- Train Accuracy 0.373 -- Val Loss: 0.29338 -- Val Accuracy: 0.357\n",
      "Epoch 42: Train Loss: 0.30912 -- Train Accuracy 0.370 -- Val Loss: 0.29286 -- Val Accuracy: 0.366\n",
      "Epoch 43: Train Loss: 0.30876 -- Train Accuracy 0.374 -- Val Loss: 0.29300 -- Val Accuracy: 0.368\n",
      "Epoch 44: Train Loss: 0.30807 -- Train Accuracy 0.378 -- Val Loss: 0.29276 -- Val Accuracy: 0.370\n",
      "Epoch 45: Train Loss: 0.30925 -- Train Accuracy 0.371 -- Val Loss: 0.29256 -- Val Accuracy: 0.363\n",
      "Epoch 46: Train Loss: 0.30766 -- Train Accuracy 0.373 -- Val Loss: 0.29257 -- Val Accuracy: 0.363\n",
      "Epoch 47: Train Loss: 0.30821 -- Train Accuracy 0.376 -- Val Loss: 0.29265 -- Val Accuracy: 0.368\n",
      "Epoch 48: Train Loss: 0.30863 -- Train Accuracy 0.375 -- Val Loss: 0.29327 -- Val Accuracy: 0.372\n",
      "Epoch 49: Train Loss: 0.30870 -- Train Accuracy 0.375 -- Val Loss: 0.29280 -- Val Accuracy: 0.371\n",
      "Epoch 50: Train Loss: 0.30872 -- Train Accuracy 0.374 -- Val Loss: 0.29295 -- Val Accuracy: 0.365\n",
      "Epoch 51: Train Loss: 0.30822 -- Train Accuracy 0.374 -- Val Loss: 0.29283 -- Val Accuracy: 0.374\n",
      "Epoch 52: Train Loss: 0.30748 -- Train Accuracy 0.382 -- Val Loss: 0.29275 -- Val Accuracy: 0.373\n",
      "Epoch 53: Train Loss: 0.30897 -- Train Accuracy 0.373 -- Val Loss: 0.29252 -- Val Accuracy: 0.367\n",
      "Epoch 54: Train Loss: 0.30757 -- Train Accuracy 0.378 -- Val Loss: 0.29279 -- Val Accuracy: 0.366\n",
      "Epoch 55: Train Loss: 0.30791 -- Train Accuracy 0.377 -- Val Loss: 0.29277 -- Val Accuracy: 0.369\n",
      "Epoch 56: Train Loss: 0.30943 -- Train Accuracy 0.370 -- Val Loss: 0.29292 -- Val Accuracy: 0.366\n",
      "\n",
      "Training time: 734.8888771533966\n"
     ]
    }
   ],
   "source": [
    "import time\n",
    "\n",
    "print(\"starting training...\\n\\n\")\n",
    "\n",
    "start = time.time()\n",
    "\n",
    "best_model, historical_loss, historical_acc = trainer.train()    \n",
    "\n",
    "end = time.time()\n",
    "\n",
    "print(f\"\\nTraining time: {end - start}\")"
   ]
  },
  {
   "cell_type": "code",
   "execution_count": 5,
   "metadata": {},
   "outputs": [
    {
     "name": "stderr",
     "output_type": "stream",
     "text": [
      "Matplotlib is building the font cache; this may take a moment.\n"
     ]
    },
    {
     "data": {
      "text/plain": [
       "<matplotlib.legend.Legend at 0x7f68a9801f60>"
      ]
     },
     "execution_count": 5,
     "metadata": {},
     "output_type": "execute_result"
    },
    {
     "data": {
      "image/png": "[encoded data removed]",
      "text/plain": [
       "<Figure size 640x480 with 1 Axes>"
      ]
     },
     "metadata": {},
     "output_type": "display_data"
    }
   ],
   "source": [
    "import matplotlib.pyplot as plt\n",
    "\n",
    "#plot python lists historical_loss and historical_acc\n",
    "plt.plot(historical_loss, label='Training loss')\n",
    "plt.legend(frameon=False)\n"
   ]
  },
  {
   "cell_type": "markdown",
   "metadata": {},
   "source": [
    "### Reimplementation of the above, but with shuffling of the iterator before epoch begins"
   ]
  },
  {
   "cell_type": "code",
   "execution_count": 3,
   "metadata": {},
   "outputs": [
    {
     "name": "stdout",
     "output_type": "stream",
     "text": [
      "Device: cuda\n"
     ]
    }
   ],
   "source": [
    "from train_mnist_alternate_dataloading import Trainer\n",
    "import torch.nn as nn\n",
    "\n",
    "#set criterion and optimizer\n",
    "criterion = nn.BCELoss()\n",
    "optimizer = torch.optim.Adam(model.parameters(), lr=0.0001)\n",
    "\n",
    "#set epochs\n",
    "epochs = 1000\n",
    "\n",
    "#set device\n",
    "device = torch.device('cuda' if torch.cuda.is_available() else 'cpu')\n",
    "print(f\"Device: {device}\")\n",
    "\n",
    "#set early stopping patience\n",
    "patience = 20\n",
    "\n",
    "#set log frequency for model eval \n",
    "log_frequency = 1\n",
    "\n",
    "# create trainer instance\n",
    "trainer = Trainer( model = model,\n",
    "                   criterion = criterion, \n",
    "                   optimizer = optimizer, \n",
    "                   train_loader = trainloader, \n",
    "                   val_loader = testloader, \n",
    "                   epochs = epochs, \n",
    "                   device = device, \n",
    "                   early_stopping_patience = patience, \n",
    "                   log_freq = log_frequency, \n",
    "                   batch_size=256)"
   ]
  },
  {
   "cell_type": "code",
   "execution_count": 4,
   "metadata": {},
   "outputs": [
    {
     "name": "stdout",
     "output_type": "stream",
     "text": [
      "starting training...\n",
      "\n",
      "\n",
      "Epoch 0: Train Loss: 0.45005 -- Train Accuracy 0.282 -- Val Loss: 0.32765 -- Val Accuracy: 0.264\n",
      "Epoch 1: Train Loss: 0.29576 -- Train Accuracy 0.229 -- Val Loss: 0.32600 -- Val Accuracy: 0.269\n",
      "Epoch 2: Train Loss: 0.56459 -- Train Accuracy 0.449 -- Val Loss: 0.32445 -- Val Accuracy: 0.271\n",
      "Epoch 3: Train Loss: 0.66113 -- Train Accuracy 0.539 -- Val Loss: 0.32109 -- Val Accuracy: 0.283\n",
      "Epoch 4: Train Loss: 0.09363 -- Train Accuracy 0.077 -- Val Loss: 0.32132 -- Val Accuracy: 0.282\n",
      "Epoch 5: Train Loss: 0.05818 -- Train Accuracy 0.049 -- Val Loss: 0.32110 -- Val Accuracy: 0.281\n",
      "Epoch 6: Train Loss: 0.12206 -- Train Accuracy 0.102 -- Val Loss: 0.32058 -- Val Accuracy: 0.283\n",
      "Epoch 7: Train Loss: 0.43505 -- Train Accuracy 0.366 -- Val Loss: 0.31982 -- Val Accuracy: 0.282\n",
      "Epoch 8: Train Loss: 0.32279 -- Train Accuracy 0.278 -- Val Loss: 0.31879 -- Val Accuracy: 0.284\n",
      "Epoch 9: Train Loss: 0.13176 -- Train Accuracy 0.117 -- Val Loss: 0.31862 -- Val Accuracy: 0.284\n",
      "Epoch 10: Train Loss: 0.33393 -- Train Accuracy 0.290 -- Val Loss: 0.31795 -- Val Accuracy: 0.287\n",
      "Epoch 11: Train Loss: 0.37248 -- Train Accuracy 0.327 -- Val Loss: 0.31752 -- Val Accuracy: 0.289\n",
      "Epoch 12: Train Loss: 0.59063 -- Train Accuracy 0.520 -- Val Loss: 0.31643 -- Val Accuracy: 0.293\n",
      "Epoch 13: Train Loss: 0.09124 -- Train Accuracy 0.081 -- Val Loss: 0.31638 -- Val Accuracy: 0.292\n",
      "Epoch 14: Train Loss: 0.58187 -- Train Accuracy 0.521 -- Val Loss: 0.31525 -- Val Accuracy: 0.295\n",
      "Epoch 15: Train Loss: 0.05138 -- Train Accuracy 0.045 -- Val Loss: 0.31501 -- Val Accuracy: 0.296\n",
      "Epoch 16: Train Loss: 0.47247 -- Train Accuracy 0.427 -- Val Loss: 0.31491 -- Val Accuracy: 0.298\n",
      "Epoch 17: Train Loss: 0.28966 -- Train Accuracy 0.264 -- Val Loss: 0.31415 -- Val Accuracy: 0.296\n",
      "Epoch 18: Train Loss: 0.01708 -- Train Accuracy 0.016 -- Val Loss: 0.31398 -- Val Accuracy: 0.297\n",
      "Epoch 19: Train Loss: 0.01690 -- Train Accuracy 0.016 -- Val Loss: 0.31397 -- Val Accuracy: 0.297\n",
      "Epoch 20: Train Loss: 0.23802 -- Train Accuracy 0.220 -- Val Loss: 0.31366 -- Val Accuracy: 0.297\n",
      "Epoch 21: Train Loss: 0.50997 -- Train Accuracy 0.470 -- Val Loss: 0.31318 -- Val Accuracy: 0.296\n",
      "Epoch 22: Train Loss: 0.47405 -- Train Accuracy 0.442 -- Val Loss: 0.31322 -- Val Accuracy: 0.299\n",
      "Epoch 23: Train Loss: 0.02248 -- Train Accuracy 0.022 -- Val Loss: 0.31305 -- Val Accuracy: 0.299\n",
      "Epoch 24: Train Loss: 0.13501 -- Train Accuracy 0.128 -- Val Loss: 0.31247 -- Val Accuracy: 0.300\n",
      "Epoch 25: Train Loss: 0.03430 -- Train Accuracy 0.031 -- Val Loss: 0.31257 -- Val Accuracy: 0.300\n",
      "Epoch 26: Train Loss: 0.35994 -- Train Accuracy 0.341 -- Val Loss: 0.31206 -- Val Accuracy: 0.301\n",
      "Epoch 27: Train Loss: 0.11310 -- Train Accuracy 0.104 -- Val Loss: 0.31229 -- Val Accuracy: 0.300\n",
      "Epoch 28: Train Loss: 0.16292 -- Train Accuracy 0.153 -- Val Loss: 0.31179 -- Val Accuracy: 0.304\n",
      "Epoch 29: Train Loss: 0.08974 -- Train Accuracy 0.086 -- Val Loss: 0.31155 -- Val Accuracy: 0.304\n",
      "Epoch 30: Train Loss: 0.14064 -- Train Accuracy 0.131 -- Val Loss: 0.31194 -- Val Accuracy: 0.305\n",
      "Epoch 31: Train Loss: 0.57384 -- Train Accuracy 0.539 -- Val Loss: 0.31091 -- Val Accuracy: 0.306\n",
      "Epoch 32: Train Loss: 0.20831 -- Train Accuracy 0.196 -- Val Loss: 0.31050 -- Val Accuracy: 0.307\n",
      "Epoch 33: Train Loss: 0.10673 -- Train Accuracy 0.101 -- Val Loss: 0.31036 -- Val Accuracy: 0.306\n",
      "Epoch 34: Train Loss: 0.21990 -- Train Accuracy 0.207 -- Val Loss: 0.31029 -- Val Accuracy: 0.307\n",
      "Epoch 35: Train Loss: 0.44882 -- Train Accuracy 0.429 -- Val Loss: 0.30997 -- Val Accuracy: 0.306\n",
      "Epoch 36: Train Loss: 0.03872 -- Train Accuracy 0.039 -- Val Loss: 0.30970 -- Val Accuracy: 0.308\n",
      "Epoch 37: Train Loss: 0.63712 -- Train Accuracy 0.610 -- Val Loss: 0.30910 -- Val Accuracy: 0.310\n",
      "Epoch 38: Train Loss: 0.43512 -- Train Accuracy 0.419 -- Val Loss: 0.30890 -- Val Accuracy: 0.311\n",
      "Epoch 39: Train Loss: 0.42345 -- Train Accuracy 0.410 -- Val Loss: 0.30816 -- Val Accuracy: 0.311\n",
      "Epoch 40: Train Loss: 0.31646 -- Train Accuracy 0.311 -- Val Loss: 0.30791 -- Val Accuracy: 0.312\n",
      "Epoch 41: Train Loss: 0.04997 -- Train Accuracy 0.049 -- Val Loss: 0.30782 -- Val Accuracy: 0.315\n",
      "Epoch 42: Train Loss: 0.16733 -- Train Accuracy 0.162 -- Val Loss: 0.30744 -- Val Accuracy: 0.316\n",
      "Epoch 43: Train Loss: 0.49509 -- Train Accuracy 0.484 -- Val Loss: 0.30706 -- Val Accuracy: 0.317\n",
      "Epoch 44: Train Loss: 0.44266 -- Train Accuracy 0.438 -- Val Loss: 0.30690 -- Val Accuracy: 0.319\n",
      "Epoch 45: Train Loss: 0.19924 -- Train Accuracy 0.197 -- Val Loss: 0.30676 -- Val Accuracy: 0.319\n",
      "Epoch 46: Train Loss: 0.57238 -- Train Accuracy 0.562 -- Val Loss: 0.30644 -- Val Accuracy: 0.317\n",
      "Epoch 47: Train Loss: 0.29390 -- Train Accuracy 0.288 -- Val Loss: 0.30603 -- Val Accuracy: 0.320\n",
      "Epoch 48: Train Loss: 0.56981 -- Train Accuracy 0.570 -- Val Loss: 0.30558 -- Val Accuracy: 0.320\n",
      "Epoch 49: Train Loss: 0.30819 -- Train Accuracy 0.312 -- Val Loss: 0.30543 -- Val Accuracy: 0.322\n",
      "Epoch 50: Train Loss: 0.59063 -- Train Accuracy 0.594 -- Val Loss: 0.30491 -- Val Accuracy: 0.325\n",
      "Epoch 51: Train Loss: 0.21016 -- Train Accuracy 0.208 -- Val Loss: 0.30496 -- Val Accuracy: 0.323\n",
      "Epoch 52: Train Loss: 0.54086 -- Train Accuracy 0.544 -- Val Loss: 0.30469 -- Val Accuracy: 0.325\n",
      "Epoch 53: Train Loss: 0.32532 -- Train Accuracy 0.330 -- Val Loss: 0.30461 -- Val Accuracy: 0.323\n",
      "Epoch 54: Train Loss: 0.52479 -- Train Accuracy 0.529 -- Val Loss: 0.30410 -- Val Accuracy: 0.323\n",
      "Epoch 55: Train Loss: 0.56114 -- Train Accuracy 0.571 -- Val Loss: 0.30370 -- Val Accuracy: 0.322\n",
      "Epoch 56: Train Loss: 0.38442 -- Train Accuracy 0.391 -- Val Loss: 0.30358 -- Val Accuracy: 0.329\n",
      "Epoch 57: Train Loss: 0.32531 -- Train Accuracy 0.328 -- Val Loss: 0.30433 -- Val Accuracy: 0.329\n",
      "Epoch 58: Train Loss: 0.19770 -- Train Accuracy 0.204 -- Val Loss: 0.30326 -- Val Accuracy: 0.325\n",
      "Epoch 59: Train Loss: 0.63818 -- Train Accuracy 0.651 -- Val Loss: 0.30298 -- Val Accuracy: 0.330\n",
      "Epoch 60: Train Loss: 0.20320 -- Train Accuracy 0.208 -- Val Loss: 0.30301 -- Val Accuracy: 0.331\n",
      "Epoch 61: Train Loss: 0.55448 -- Train Accuracy 0.571 -- Val Loss: 0.30264 -- Val Accuracy: 0.332\n",
      "Epoch 62: Train Loss: 0.34466 -- Train Accuracy 0.358 -- Val Loss: 0.30270 -- Val Accuracy: 0.333\n",
      "Epoch 63: Train Loss: 0.26923 -- Train Accuracy 0.274 -- Val Loss: 0.30265 -- Val Accuracy: 0.332\n",
      "Epoch 64: Train Loss: 0.50870 -- Train Accuracy 0.528 -- Val Loss: 0.30234 -- Val Accuracy: 0.333\n",
      "Epoch 65: Train Loss: 0.43364 -- Train Accuracy 0.447 -- Val Loss: 0.30186 -- Val Accuracy: 0.333\n",
      "Epoch 66: Train Loss: 0.11959 -- Train Accuracy 0.126 -- Val Loss: 0.30198 -- Val Accuracy: 0.333\n",
      "Epoch 67: Train Loss: 0.27801 -- Train Accuracy 0.292 -- Val Loss: 0.30150 -- Val Accuracy: 0.333\n",
      "Epoch 68: Train Loss: 0.51005 -- Train Accuracy 0.524 -- Val Loss: 0.30138 -- Val Accuracy: 0.332\n",
      "Epoch 69: Train Loss: 0.54460 -- Train Accuracy 0.573 -- Val Loss: 0.30104 -- Val Accuracy: 0.336\n",
      "Epoch 70: Train Loss: 0.44585 -- Train Accuracy 0.472 -- Val Loss: 0.30103 -- Val Accuracy: 0.336\n",
      "Epoch 71: Train Loss: 0.06076 -- Train Accuracy 0.061 -- Val Loss: 0.30117 -- Val Accuracy: 0.337\n",
      "Epoch 72: Train Loss: 0.48758 -- Train Accuracy 0.504 -- Val Loss: 0.30117 -- Val Accuracy: 0.338\n",
      "Epoch 73: Train Loss: 0.17960 -- Train Accuracy 0.191 -- Val Loss: 0.30091 -- Val Accuracy: 0.338\n",
      "Epoch 74: Train Loss: 0.48557 -- Train Accuracy 0.511 -- Val Loss: 0.30065 -- Val Accuracy: 0.336\n",
      "Epoch 75: Train Loss: 0.07610 -- Train Accuracy 0.081 -- Val Loss: 0.30046 -- Val Accuracy: 0.339\n",
      "Epoch 76: Train Loss: 0.27274 -- Train Accuracy 0.286 -- Val Loss: 0.30037 -- Val Accuracy: 0.339\n",
      "Epoch 77: Train Loss: 0.37534 -- Train Accuracy 0.398 -- Val Loss: 0.30022 -- Val Accuracy: 0.339\n",
      "Epoch 78: Train Loss: 0.59969 -- Train Accuracy 0.633 -- Val Loss: 0.29986 -- Val Accuracy: 0.340\n",
      "Epoch 79: Train Loss: 0.40833 -- Train Accuracy 0.432 -- Val Loss: 0.29998 -- Val Accuracy: 0.338\n",
      "Epoch 80: Train Loss: 0.08765 -- Train Accuracy 0.090 -- Val Loss: 0.30044 -- Val Accuracy: 0.339\n",
      "Epoch 81: Train Loss: 0.10837 -- Train Accuracy 0.116 -- Val Loss: 0.29996 -- Val Accuracy: 0.339\n",
      "Epoch 82: Train Loss: 0.27284 -- Train Accuracy 0.287 -- Val Loss: 0.29991 -- Val Accuracy: 0.339\n",
      "Epoch 83: Train Loss: 0.01079 -- Train Accuracy 0.012 -- Val Loss: 0.29979 -- Val Accuracy: 0.338\n"
     ]
    },
    {
     "name": "stdout",
     "output_type": "stream",
     "text": [
      "Epoch 84: Train Loss: 0.58175 -- Train Accuracy 0.622 -- Val Loss: 0.29938 -- Val Accuracy: 0.341\n",
      "Epoch 85: Train Loss: 0.39257 -- Train Accuracy 0.414 -- Val Loss: 0.29930 -- Val Accuracy: 0.342\n",
      "Epoch 86: Train Loss: 0.40751 -- Train Accuracy 0.433 -- Val Loss: 0.29914 -- Val Accuracy: 0.340\n",
      "Epoch 87: Train Loss: 0.42315 -- Train Accuracy 0.452 -- Val Loss: 0.29929 -- Val Accuracy: 0.340\n",
      "Epoch 88: Train Loss: 0.35321 -- Train Accuracy 0.375 -- Val Loss: 0.29885 -- Val Accuracy: 0.341\n",
      "Epoch 89: Train Loss: 0.34205 -- Train Accuracy 0.365 -- Val Loss: 0.29885 -- Val Accuracy: 0.342\n",
      "Epoch 90: Train Loss: 0.57515 -- Train Accuracy 0.615 -- Val Loss: 0.29871 -- Val Accuracy: 0.343\n",
      "Epoch 91: Train Loss: 0.09228 -- Train Accuracy 0.099 -- Val Loss: 0.29896 -- Val Accuracy: 0.342\n",
      "Epoch 92: Train Loss: 0.03771 -- Train Accuracy 0.041 -- Val Loss: 0.29871 -- Val Accuracy: 0.344\n",
      "Epoch 93: Train Loss: 0.58613 -- Train Accuracy 0.626 -- Val Loss: 0.29842 -- Val Accuracy: 0.342\n",
      "Epoch 94: Train Loss: 0.37466 -- Train Accuracy 0.400 -- Val Loss: 0.29805 -- Val Accuracy: 0.343\n",
      "Epoch 95: Train Loss: 0.51424 -- Train Accuracy 0.551 -- Val Loss: 0.29789 -- Val Accuracy: 0.344\n",
      "Epoch 96: Train Loss: 0.35228 -- Train Accuracy 0.378 -- Val Loss: 0.29803 -- Val Accuracy: 0.342\n",
      "Epoch 97: Train Loss: 0.08143 -- Train Accuracy 0.086 -- Val Loss: 0.29791 -- Val Accuracy: 0.345\n",
      "Epoch 98: Train Loss: 0.35644 -- Train Accuracy 0.384 -- Val Loss: 0.29787 -- Val Accuracy: 0.343\n",
      "Epoch 99: Train Loss: 0.00556 -- Train Accuracy 0.005 -- Val Loss: 0.29785 -- Val Accuracy: 0.344\n",
      "Epoch 100: Train Loss: 0.52538 -- Train Accuracy 0.561 -- Val Loss: 0.29749 -- Val Accuracy: 0.342\n",
      "Epoch 101: Train Loss: 0.59040 -- Train Accuracy 0.632 -- Val Loss: 0.29734 -- Val Accuracy: 0.343\n",
      "Epoch 102: Train Loss: 0.28602 -- Train Accuracy 0.310 -- Val Loss: 0.29745 -- Val Accuracy: 0.345\n",
      "Epoch 103: Train Loss: 0.11322 -- Train Accuracy 0.124 -- Val Loss: 0.29741 -- Val Accuracy: 0.345\n",
      "Epoch 104: Train Loss: 0.42192 -- Train Accuracy 0.455 -- Val Loss: 0.29730 -- Val Accuracy: 0.344\n",
      "Epoch 105: Train Loss: 0.30860 -- Train Accuracy 0.331 -- Val Loss: 0.29718 -- Val Accuracy: 0.345\n",
      "Epoch 106: Train Loss: 0.56263 -- Train Accuracy 0.603 -- Val Loss: 0.29678 -- Val Accuracy: 0.345\n",
      "Epoch 107: Train Loss: 0.13534 -- Train Accuracy 0.144 -- Val Loss: 0.29672 -- Val Accuracy: 0.346\n",
      "Epoch 108: Train Loss: 0.58438 -- Train Accuracy 0.628 -- Val Loss: 0.29671 -- Val Accuracy: 0.345\n",
      "Epoch 109: Train Loss: 0.46308 -- Train Accuracy 0.507 -- Val Loss: 0.29673 -- Val Accuracy: 0.344\n",
      "Epoch 110: Train Loss: 0.52859 -- Train Accuracy 0.572 -- Val Loss: 0.29649 -- Val Accuracy: 0.343\n",
      "Epoch 111: Train Loss: 0.44605 -- Train Accuracy 0.487 -- Val Loss: 0.29638 -- Val Accuracy: 0.346\n",
      "Epoch 112: Train Loss: 0.21602 -- Train Accuracy 0.233 -- Val Loss: 0.29643 -- Val Accuracy: 0.347\n",
      "Epoch 113: Train Loss: 0.17806 -- Train Accuracy 0.193 -- Val Loss: 0.29639 -- Val Accuracy: 0.347\n",
      "Epoch 114: Train Loss: 0.03785 -- Train Accuracy 0.041 -- Val Loss: 0.29642 -- Val Accuracy: 0.346\n",
      "Epoch 115: Train Loss: 0.53367 -- Train Accuracy 0.577 -- Val Loss: 0.29629 -- Val Accuracy: 0.344\n",
      "Epoch 116: Train Loss: 0.11359 -- Train Accuracy 0.121 -- Val Loss: 0.29633 -- Val Accuracy: 0.347\n",
      "Epoch 117: Train Loss: 0.01622 -- Train Accuracy 0.018 -- Val Loss: 0.29631 -- Val Accuracy: 0.347\n",
      "Epoch 118: Train Loss: 0.24173 -- Train Accuracy 0.266 -- Val Loss: 0.29634 -- Val Accuracy: 0.345\n",
      "Epoch 119: Train Loss: 0.45995 -- Train Accuracy 0.496 -- Val Loss: 0.29625 -- Val Accuracy: 0.346\n",
      "Epoch 120: Train Loss: 0.43587 -- Train Accuracy 0.477 -- Val Loss: 0.29597 -- Val Accuracy: 0.346\n",
      "Epoch 121: Train Loss: 0.40460 -- Train Accuracy 0.438 -- Val Loss: 0.29583 -- Val Accuracy: 0.347\n",
      "Epoch 122: Train Loss: 0.42870 -- Train Accuracy 0.474 -- Val Loss: 0.29589 -- Val Accuracy: 0.346\n",
      "Epoch 123: Train Loss: 0.10213 -- Train Accuracy 0.112 -- Val Loss: 0.29586 -- Val Accuracy: 0.346\n",
      "Epoch 124: Train Loss: 0.39291 -- Train Accuracy 0.430 -- Val Loss: 0.29610 -- Val Accuracy: 0.346\n",
      "Epoch 125: Train Loss: 0.29528 -- Train Accuracy 0.324 -- Val Loss: 0.29549 -- Val Accuracy: 0.349\n",
      "Epoch 126: Train Loss: 0.14533 -- Train Accuracy 0.159 -- Val Loss: 0.29547 -- Val Accuracy: 0.348\n",
      "Epoch 127: Train Loss: 0.33291 -- Train Accuracy 0.366 -- Val Loss: 0.29545 -- Val Accuracy: 0.345\n",
      "Epoch 128: Train Loss: 0.47841 -- Train Accuracy 0.523 -- Val Loss: 0.29550 -- Val Accuracy: 0.346\n",
      "Epoch 129: Train Loss: 0.51512 -- Train Accuracy 0.565 -- Val Loss: 0.29547 -- Val Accuracy: 0.345\n",
      "Epoch 130: Train Loss: 0.12341 -- Train Accuracy 0.134 -- Val Loss: 0.29517 -- Val Accuracy: 0.348\n",
      "Epoch 131: Train Loss: 0.31618 -- Train Accuracy 0.346 -- Val Loss: 0.29517 -- Val Accuracy: 0.346\n",
      "Epoch 132: Train Loss: 0.14509 -- Train Accuracy 0.159 -- Val Loss: 0.29522 -- Val Accuracy: 0.347\n",
      "Epoch 133: Train Loss: 0.27905 -- Train Accuracy 0.306 -- Val Loss: 0.29503 -- Val Accuracy: 0.347\n",
      "Epoch 134: Train Loss: 0.45139 -- Train Accuracy 0.494 -- Val Loss: 0.29548 -- Val Accuracy: 0.344\n",
      "Epoch 135: Train Loss: 0.30519 -- Train Accuracy 0.335 -- Val Loss: 0.29527 -- Val Accuracy: 0.346\n",
      "Epoch 136: Train Loss: 0.31111 -- Train Accuracy 0.342 -- Val Loss: 0.29510 -- Val Accuracy: 0.347\n",
      "Epoch 137: Train Loss: 0.41894 -- Train Accuracy 0.459 -- Val Loss: 0.29506 -- Val Accuracy: 0.343\n",
      "Epoch 138: Train Loss: 0.06979 -- Train Accuracy 0.075 -- Val Loss: 0.29508 -- Val Accuracy: 0.348\n",
      "Epoch 139: Train Loss: 0.50503 -- Train Accuracy 0.553 -- Val Loss: 0.29490 -- Val Accuracy: 0.348\n",
      "Epoch 140: Train Loss: 0.36353 -- Train Accuracy 0.403 -- Val Loss: 0.29481 -- Val Accuracy: 0.345\n",
      "Epoch 141: Train Loss: 0.16096 -- Train Accuracy 0.175 -- Val Loss: 0.29468 -- Val Accuracy: 0.345\n",
      "Epoch 142: Train Loss: 0.44979 -- Train Accuracy 0.497 -- Val Loss: 0.29509 -- Val Accuracy: 0.345\n",
      "Epoch 143: Train Loss: 0.46673 -- Train Accuracy 0.512 -- Val Loss: 0.29458 -- Val Accuracy: 0.350\n",
      "Epoch 144: Train Loss: 0.05892 -- Train Accuracy 0.065 -- Val Loss: 0.29461 -- Val Accuracy: 0.350\n",
      "Epoch 145: Train Loss: 0.09655 -- Train Accuracy 0.106 -- Val Loss: 0.29467 -- Val Accuracy: 0.347\n",
      "Epoch 146: Train Loss: 0.32666 -- Train Accuracy 0.361 -- Val Loss: 0.29474 -- Val Accuracy: 0.348\n",
      "Epoch 147: Train Loss: 0.13897 -- Train Accuracy 0.155 -- Val Loss: 0.29450 -- Val Accuracy: 0.348\n",
      "Epoch 148: Train Loss: 0.29399 -- Train Accuracy 0.325 -- Val Loss: 0.29451 -- Val Accuracy: 0.348\n",
      "Epoch 149: Train Loss: 0.13902 -- Train Accuracy 0.153 -- Val Loss: 0.29490 -- Val Accuracy: 0.349\n",
      "Epoch 150: Train Loss: 0.41168 -- Train Accuracy 0.454 -- Val Loss: 0.29460 -- Val Accuracy: 0.350\n",
      "Epoch 151: Train Loss: 0.09658 -- Train Accuracy 0.107 -- Val Loss: 0.29435 -- Val Accuracy: 0.349\n",
      "Epoch 152: Train Loss: 0.26712 -- Train Accuracy 0.299 -- Val Loss: 0.29436 -- Val Accuracy: 0.351\n",
      "Epoch 153: Train Loss: 0.17092 -- Train Accuracy 0.190 -- Val Loss: 0.29454 -- Val Accuracy: 0.349\n",
      "Epoch 154: Train Loss: 0.57681 -- Train Accuracy 0.640 -- Val Loss: 0.29437 -- Val Accuracy: 0.349\n",
      "Epoch 155: Train Loss: 0.02112 -- Train Accuracy 0.024 -- Val Loss: 0.29441 -- Val Accuracy: 0.352\n",
      "Epoch 156: Train Loss: 0.00000 -- Train Accuracy 0.000 -- Val Loss: 0.29441 -- Val Accuracy: 0.352\n",
      "Epoch 157: Train Loss: 0.37914 -- Train Accuracy 0.423 -- Val Loss: 0.29446 -- Val Accuracy: 0.350\n",
      "Epoch 158: Train Loss: 0.32150 -- Train Accuracy 0.353 -- Val Loss: 0.29433 -- Val Accuracy: 0.348\n",
      "Epoch 159: Train Loss: 0.05884 -- Train Accuracy 0.065 -- Val Loss: 0.29444 -- Val Accuracy: 0.351\n",
      "Epoch 160: Train Loss: 0.62578 -- Train Accuracy 0.690 -- Val Loss: 0.29432 -- Val Accuracy: 0.343\n",
      "Epoch 161: Train Loss: 0.07465 -- Train Accuracy 0.083 -- Val Loss: 0.29413 -- Val Accuracy: 0.347\n",
      "Epoch 162: Train Loss: 0.30942 -- Train Accuracy 0.345 -- Val Loss: 0.29401 -- Val Accuracy: 0.346\n",
      "Epoch 163: Train Loss: 0.30382 -- Train Accuracy 0.341 -- Val Loss: 0.29409 -- Val Accuracy: 0.348\n",
      "Epoch 164: Train Loss: 0.17117 -- Train Accuracy 0.191 -- Val Loss: 0.29394 -- Val Accuracy: 0.348\n",
      "Epoch 165: Train Loss: 0.01073 -- Train Accuracy 0.011 -- Val Loss: 0.29392 -- Val Accuracy: 0.347\n",
      "Epoch 166: Train Loss: 0.05339 -- Train Accuracy 0.059 -- Val Loss: 0.29391 -- Val Accuracy: 0.344\n"
     ]
    },
    {
     "name": "stdout",
     "output_type": "stream",
     "text": [
      "Epoch 167: Train Loss: 0.03180 -- Train Accuracy 0.036 -- Val Loss: 0.29386 -- Val Accuracy: 0.347\n",
      "Epoch 168: Train Loss: 0.44741 -- Train Accuracy 0.501 -- Val Loss: 0.29400 -- Val Accuracy: 0.346\n",
      "Epoch 169: Train Loss: 0.11708 -- Train Accuracy 0.132 -- Val Loss: 0.29410 -- Val Accuracy: 0.349\n",
      "Epoch 170: Train Loss: 0.50697 -- Train Accuracy 0.560 -- Val Loss: 0.29390 -- Val Accuracy: 0.345\n",
      "Epoch 171: Train Loss: 0.55416 -- Train Accuracy 0.620 -- Val Loss: 0.29399 -- Val Accuracy: 0.348\n",
      "Epoch 172: Train Loss: 0.57662 -- Train Accuracy 0.639 -- Val Loss: 0.29386 -- Val Accuracy: 0.346\n",
      "Epoch 173: Train Loss: 0.04780 -- Train Accuracy 0.053 -- Val Loss: 0.29400 -- Val Accuracy: 0.344\n",
      "Epoch 174: Train Loss: 0.47807 -- Train Accuracy 0.538 -- Val Loss: 0.29397 -- Val Accuracy: 0.346\n",
      "Epoch 175: Train Loss: 0.43180 -- Train Accuracy 0.482 -- Val Loss: 0.29390 -- Val Accuracy: 0.346\n",
      "\n",
      "Training time: 2172.7596051692963\n"
     ]
    }
   ],
   "source": [
    "import time\n",
    "\n",
    "print(\"starting training...\\n\\n\")\n",
    "\n",
    "start = time.time()\n",
    "\n",
    "best_model, historical_loss, historical_acc = trainer.train()    \n",
    "\n",
    "end = time.time()\n",
    "\n",
    "print(f\"\\nTraining time: {end - start}\")"
   ]
  },
  {
   "cell_type": "code",
   "execution_count": 5,
   "metadata": {},
   "outputs": [
    {
     "name": "stderr",
     "output_type": "stream",
     "text": [
      "Matplotlib is building the font cache; this may take a moment.\n"
     ]
    },
    {
     "data": {
      "text/plain": [
       "<matplotlib.legend.Legend at 0x7fc8bfc93df0>"
      ]
     },
     "execution_count": 5,
     "metadata": {},
     "output_type": "execute_result"
    },
    {
     "data": {
      "image/png": "[encoded data removed]",
      "text/plain": [
       "<Figure size 640x480 with 1 Axes>"
      ]
     },
     "metadata": {},
     "output_type": "display_data"
    }
   ],
   "source": [
    "import matplotlib.pyplot as plt\n",
    "\n",
    "#plot python lists historical_loss and historical_acc\n",
    "plt.plot(historical_loss, label='Validation loss')\n",
    "plt.legend(frameon=False)\n"
   ]
  },
  {
   "cell_type": "markdown",
   "metadata": {},
   "source": [
    "Following this experi9ement, my intuition for which training script is the best allies with mnist_train_alternate_dataloading.py. It is the most readable and easiest to debug. \n",
    "\n",
    "It did not perform the best with the specific model in this experiment, but the point of the experiemnt was not to optimize. It is probably the case that it is a better training script for a better model."
   ]
  }
 ],
 "metadata": {
  "kernelspec": {
   "display_name": "conda_pytorch_p310",
   "language": "python",
   "name": "conda_pytorch_p310"
  },
  "language_info": {
   "codemirror_mode": {
    "name": "ipython",
    "version": 3
   },
   "file_extension": ".py",
   "mimetype": "text/x-python",
   "name": "python",
   "nbconvert_exporter": "python",
   "pygments_lexer": "ipython3",
   "version": "3.10.12"
  }
 },
 "nbformat": 4,
 "nbformat_minor": 2
}
